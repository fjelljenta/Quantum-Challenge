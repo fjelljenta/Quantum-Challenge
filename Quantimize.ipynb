{
 "cells": [
  {
   "cell_type": "markdown",
   "metadata": {},
   "source": [
    "# Team Quantimize\n",
    "## Overview of this notebook:\n",
    "### Setup:\n",
    "- Project structure\n",
    "- Installation\n",
    "### Usage:\n",
    "- Data preparation\n",
    "- Visualization\n",
    "- Classic solutions\n",
    "- Quantum solutions\n",
    "- Air security\n",
    "- Benchmarks\n",
    "- Results and discussion\n",
    "\n",
    "This notebook shall run without any errors or problems and should demonstrate the result of our work, as well as a comparision and a possible quantum advantage."
   ]
  },
  {
   "cell_type": "markdown",
   "metadata": {},
   "source": [
    "## Setup\n",
    "### Project structure\n",
    "The project is structured the following way:\n",
    "Quantimize.ipynb is the main entry point. Every file has a brief explanation of what it contains and what it does.\n",
    "- quantimize/:\n",
    "    - classic/:\n",
    "        - classic_solution.py: for the genetic algorithm (GA)\n",
    "        - toolbox.py:for the straight line solution and various needed methods for the GA\n",
    "    - data/:\n",
    "        - aCCF_0623_p_spec.nc: the original atmospheric data file\n",
    "        - atmo.json: the new created atmospheric data file\n",
    "        - bada_data.csv: file containing information about the flight level/TAS/ROC/ROD and fuel consumption\n",
    "        - bada_data.json: file containing the same information but in a different format\n",
    "        - flights.csv: file containing information about all the flights (start, stop, FL)\n",
    "        - flights.json: file containing the same information but in a different format\n",
    "    - quantum/:\n",
    "        - QGA.py: as the quantum genetic algorithm\n",
    "        - quantum_solution.py: containing the QAOA algorithm\n",
    "        - quantum_neural_network.py: containing the quantum neural network\n",
    "        - toolbox.py: containing additional functions\n",
    "    - air_security.py: for air security related checks\n",
    "    - classic_summary.py: for calls to classic functions\n",
    "    - converter.py: for conversion of units (kts->km/h, minutes->seconds)\n",
    "    - create_json_data.py: to explain how we generated our datafiles\n",
    "    - data_access.py: gives access to all the converted data and returns them\n",
    "    - quantum_summary.py: for calls to quantum functions\n",
    "    - visualisation.py: for all visualisation related functions\n",
    "### Installation\n",
    "The package can be cloned from github using \n",
    "```commandline\n",
    "git clone https://\n",
    "cd quantimize\n",
    "```\n",
    "After that, one needs to install all required packages using\n",
    "```commandline\n",
    "pip install requirements.txt\n",
    "```\n",
    "Now, everything should be ready and set up to further run this notebook."
   ]
  },
  {
   "cell_type": "markdown",
   "metadata": {},
   "source": [
    "## Usage\n",
    "This section is dedicated to show how the notebook can be used and to show our work and results.\n",
    "### Data preparation\n",
    "The data preparation is all related to the file ```create_json_data.py```. It can be used as a standalone application to convert all three given files (atmospheric data, flight data, flight list) into the corresponding .json files. This was done to get a better handle over the files and to adapt the access to our purposes. For example, some flight levels were converted from hPa to FL for simpler calculations and visualisations on. Requirement for the file to run is, that there has to be a folder data (like in this project) in the current working directory. Also the files need to have the specific names for successful conversion. Further explanaition can be found in the file itself. We now want to concentrate more on the work done.\n",
    "### Notebook preparation\n",
    "Important imports to make this notebook work as expected"
   ]
  },
  {
   "cell_type": "code",
   "execution_count": null,
   "metadata": {},
   "outputs": [],
   "source": [
    "%matplotlib inline\n",
    "import matplotlib.pyplot as plt"
   ]
  },
  {
   "cell_type": "markdown",
   "metadata": {},
   "source": [
    "### Visualisation\n",
    "Visualisation is done for a better understanding of the data and of course for nice pictures to look at. To use the visualisation, we first have to import the visualisation part of the package. Also the datetime package, because we need to work with time objects."
   ]
  },
  {
   "cell_type": "code",
   "execution_count": null,
   "metadata": {},
   "outputs": [],
   "source": [
    "from quantimize import visualisation as vs\n",
    "from datetime import time as t"
   ]
  },
  {
   "cell_type": "markdown",
   "metadata": {},
   "source": [
    "We can now access all functions in it. As an example, we want to plot the atmospheric data of a certain flightlevel and time and see how it looks like. We choose FL = 295 and a time of 8 o'clock in the morning."
   ]
  },
  {
   "cell_type": "code",
   "execution_count": null,
   "metadata": {},
   "outputs": [],
   "source": [
    "vs.make_atmo_map(295, t(8,0,0))"
   ]
  },
  {
   "cell_type": "markdown",
   "metadata": {},
   "source": [
    "You will get the atmospheric data plotted in different colors, corresponding to the value and normalized to the min and max value available. In the title, you can also see, that there were some assumptions:\n",
    "1. We have no atmospheric data for FL 295, so we choose the closest, which is FL 300\n",
    "2. We also do not have atmospheric data for 8 o'clock in the morning. Therefore, we refer to 6 o'clock in the morning.\n",
    "\n",
    "Regarding the time, we split the time in intervals from 6 to 9 corresponding to the data of 6 o'clock, 9 to 15 corresponding to the data of 12 o'clock and 15 to 21 corresponding to the data of 18 o'clock.\n",
    "\n",
    "We also can animate the atmospheric data either for a fixed time variing in the FL or vice verca with a fixed FL variing in time. These function do not work in this notebook, because they are repetitive. To see the results, you need to import the package and run the code in a commandline. For completion it is shown here:"
   ]
  },
  {
   "cell_type": "code",
   "execution_count": null,
   "metadata": {},
   "outputs": [],
   "source": [
    "vs.make_animated_atmo_FL_map(t(12))"
   ]
  },
  {
   "cell_type": "code",
   "execution_count": null,
   "metadata": {},
   "outputs": [],
   "source": [
    "vs.make_animated_atmo_day_map(300)"
   ]
  },
  {
   "cell_type": "markdown",
   "metadata": {},
   "source": [
    "Further visualisation will be presented, when showing flight paths.\n",
    "### Classic solutions\n",
    "In our work, we provide two different classic solutions. One being the simplest, the straight line solution, and the other being the genetic algorithm (GA).\n",
    "#### Straight line solution\n",
    "The straight line solution, as the name suggests, just computes a straight line from start to end, without any variation. The function takes the flight number (4) and a timestep dt, here 300 seconds, as input."
   ]
  },
  {
   "cell_type": "code",
   "execution_count": 3,
   "metadata": {},
   "outputs": [],
   "source": [
    "flight_nr = 17\n",
    "dt = 300"
   ]
  },
  {
   "cell_type": "code",
   "execution_count": 4,
   "metadata": {},
   "outputs": [],
   "source": [
    "import quantimize.classic_summary as classic_solution\n",
    "trajectory_sls = classic_solution.straight_line_solution(flight_nr, dt)"
   ]
  },
  {
   "cell_type": "markdown",
   "metadata": {},
   "source": [
    "The trajectory can now be plotted as a 2D graph for example. First we create a map and then plot the flight path."
   ]
  },
  {
   "cell_type": "code",
   "execution_count": null,
   "metadata": {},
   "outputs": [],
   "source": [
    "%matplotlib widget\n",
    "map = vs.make_map()\n",
    "vs.scatter_flight_path_on_map(map, trajectory_sls)"
   ]
  },
  {
   "cell_type": "markdown",
   "metadata": {},
   "source": [
    "In the graph, you can see a dotted line showing the flight path. We can also now calculate the cost."
   ]
  },
  {
   "cell_type": "code",
   "execution_count": null,
   "metadata": {},
   "outputs": [],
   "source": [
    "cost = classic_solution.compute_cost(trajectory_sls)\n",
    "print(cost)"
   ]
  },
  {
   "cell_type": "markdown",
   "metadata": {},
   "source": [
    "The cost has the dimenstion 10e-12 K.\n",
    "\n",
    "#### Genetic algorithm solution\n",
    "In the genetic algorithm solution (GA) we use the genetic algorithm to find boundary points and then calculate from these points the optimal flight trajectory."
   ]
  },
  {
   "cell_type": "code",
   "execution_count": null,
   "metadata": {},
   "outputs": [],
   "source": [
    "report, solution, trajectory_ga = classic_solution.genetic_algorith_solution(flight_nr, dt)"
   ]
  },
  {
   "cell_type": "markdown",
   "metadata": {},
   "source": [
    "The objective function also contains already the cost of this flight. We can now also plot this again, this time in 3D to see the flight level changes and the atmospheric data. The flight trajectory is also mapped to a uniform time distance for later calculations."
   ]
  },
  {
   "cell_type": "code",
   "execution_count": null,
   "metadata": {},
   "outputs": [],
   "source": [
    "ax, map = vs.make_3d_map()\n",
    "vs.plot_flight_path_on_map_3d_with_atmo_as_slices(ax, map, trajectory_ga)"
   ]
  },
  {
   "cell_type": "markdown",
   "metadata": {},
   "source": [
    "The colors represent the value of the atmospheric data in squares around the flight path point. On the ground you can see the projection of the flight path. It clearly shows, that with variation in the flight height, one can obtain already a much better result than just staying on the same flight level. We can also check the cost, but these should be similar to the objective function."
   ]
  },
  {
   "cell_type": "code",
   "execution_count": null,
   "metadata": {},
   "outputs": [],
   "source": [
    "cost = classic_solution.compute_cost(trajectory_ga)\n",
    "print(cost)"
   ]
  },
  {
   "cell_type": "markdown",
   "metadata": {},
   "source": [
    "The small deviation comes from a different spacing of the points as mentioned above, but is in the same order as the original result."
   ]
  },
  {
   "cell_type": "markdown",
   "metadata": {},
   "source": [
    "### Quantum solution\n",
    "Our quantum solutions consist of three different. The first is the quantum equivalent to the genetic algorithm. The second one ist a quantum neural network and the third one is a mapping of atmospheric data to a qubit grid.\n",
    "#### Quantum genetic algortihm\n"
   ]
  },
  {
   "cell_type": "code",
   "execution_count": null,
   "metadata": {},
   "outputs": [],
   "source": [
    "import quantimize.quantum_summary as quantum_solution\n",
    "trajectory_qga = quantum_solution.quantum_genetic_algorith_solution(flight_nr, dt)"
   ]
  },
  {
   "cell_type": "markdown",
   "metadata": {},
   "source": [
    "We can again plot this trajectory and compute its cost"
   ]
  },
  {
   "cell_type": "code",
   "execution_count": null,
   "metadata": {},
   "outputs": [],
   "source": [
    "ax, map = vs.make_3d_map()\n",
    "vs.plot_flight_path_on_map_3d_with_atmo_as_slices(ax, map, trajectory_qga)\n",
    "cost = classic_solution.compute_cost(trajectory_qga)\n",
    "print(cost)"
   ]
  },
  {
   "cell_type": "markdown",
   "metadata": {},
   "source": [
    "As one can see, the algorithm gives an output, which is not as smooth as the classic solution. The climate efficiency is slightly better than for the classic GA."
   ]
  },
  {
   "cell_type": "markdown",
   "metadata": {},
   "source": [
    "\n",
    "#### Quantum neural network\n",
    "The quantum neural network takes already precalculated boundary points and tries to optimize those further. We use the boundary points from the previous classic GA algorithm."
   ]
  },
  {
   "cell_type": "code",
   "execution_count": null,
   "metadata": {},
   "outputs": [],
   "source": [
    "ctrl_pts = solution['variable']\n",
    "optimized_ctrl_pts = quantum_solution.quantum_neural_network(flight_nr, 6, ctrl_pts)"
   ]
  },
  {
   "cell_type": "code",
   "execution_count": null,
   "metadata": {},
   "outputs": [],
   "source": [
    "print(optimized_ctrl_pts)"
   ]
  },
  {
   "cell_type": "markdown",
   "metadata": {},
   "source": [
    "#### Qubit grid"
   ]
  },
  {
   "cell_type": "code",
   "execution_count": null,
   "metadata": {},
   "outputs": [],
   "source": [
    "gc = quantum_solution.sample_grid()\n",
    "a,b,c = quantum_solution.run_QAOA(gc)"
   ]
  },
  {
   "cell_type": "code",
   "execution_count": null,
   "metadata": {},
   "outputs": [],
   "source": [
    "print(c)"
   ]
  },
  {
   "cell_type": "markdown",
   "metadata": {},
   "source": [
    "### Air security\n",
    "Air security is essential for all planes in the air to avoid crashes and to save lives. After a flight trajectory is calculated, one has to check that the route has no steeper turns than 25°, that the plane is at least 10 FL above and below of other planes or has a distance of 5 nm (9,26 km) to the next plane. This can be checked with our air safety functions."
   ]
  },
  {
   "cell_type": "markdown",
   "metadata": {},
   "source": [
    "Since our code relys on timestamps, we first want do do an estimation of how close we have to choose our timesteps:\n",
    "$\\\\s = 9.26km\\\\$\n",
    "$v_{max} = 459kts = 850 km/h\\\\$\n",
    "$t = \\frac{s}{v_{max}} = 39,2 s\\\\$\n",
    "\n",
    "To further enhance this, we reduce the time to 15 s. This fits good in a general scale of time(minutes) and provides us with enough points to detect possible collisions. Therefore we first adapt our trajectories:"
   ]
  },
  {
   "cell_type": "code",
   "execution_count": 5,
   "metadata": {},
   "outputs": [
    {
     "name": "stdout",
     "output_type": "stream",
     "text": [
      " The best solution found:                                                                           \n",
      " [ -8.62114869  -8.14944913   9.78790485  45.49057421  59.80533896\n",
      "  59.62998859 329.37483245 377.46169909 310.682234   337.03593454\n",
      " 300.28309488]\n",
      "\n",
      " Objective function:\n",
      " -19167.69388516968\n",
      "1335.4189450460253 1079.4960077301284\n"
     ]
    }
   ],
   "source": [
    "import quantimize.air_security as air_safety\n",
    "\n",
    "trajectory_sls = classic_solution.straight_line_solution(2, 15)\n",
    "report, solution, trajectory_ga = classic_solution.genetic_algorith_solution(21, 15)\n",
    "cost_sls = classic_solution.compute_cost(trajectory_sls)\n",
    "cost_ga = classic_solution.compute_cost(trajectory_ga)\n",
    "print(cost_sls, cost_ga)\n"
   ]
  },
  {
   "cell_type": "code",
   "execution_count": 6,
   "metadata": {},
   "outputs": [
    {
     "name": "stdout",
     "output_type": "stream",
     "text": [
      "2\n"
     ]
    },
    {
     "name": "stderr",
     "output_type": "stream",
     "text": [
      "c:\\Users\\Jakob\\Documents\\TUM\\Master\\4.Semester-QST\\Quantum-Challenge\\quantimize\\air_security.py:216: RuntimeWarning: invalid value encountered in arccos\n",
      "  theta = np.arccos(np.dot(v1,v2)/(np.linalg.norm(v1)*np.linalg.norm(v2)))*180/np.pi\n"
     ]
    },
    {
     "ename": "KeyError",
     "evalue": "datetime.time(13, 31, 27)",
     "output_type": "error",
     "traceback": [
      "\u001b[1;31m---------------------------------------------------------------------------\u001b[0m",
      "\u001b[1;31mKeyError\u001b[0m                                  Traceback (most recent call last)",
      "\u001b[1;32m<ipython-input-6-2ddffa8bcbfc>\u001b[0m in \u001b[0;36m<module>\u001b[1;34m\u001b[0m\n\u001b[0;32m      1\u001b[0m \u001b[0mair_safety\u001b[0m\u001b[1;33m.\u001b[0m\u001b[0mradius_control\u001b[0m\u001b[1;33m(\u001b[0m\u001b[0mtrajectory_ga\u001b[0m\u001b[1;33m)\u001b[0m\u001b[1;33m\u001b[0m\u001b[1;33m\u001b[0m\u001b[0m\n\u001b[1;32m----> 2\u001b[1;33m \u001b[0mair_safety\u001b[0m\u001b[1;33m.\u001b[0m\u001b[0mcheck_safety\u001b[0m\u001b[1;33m(\u001b[0m\u001b[1;33m[\u001b[0m\u001b[0mtrajectory_sls\u001b[0m\u001b[1;33m,\u001b[0m \u001b[0mtrajectory_ga\u001b[0m\u001b[1;33m]\u001b[0m\u001b[1;33m,\u001b[0m \u001b[1;36m15\u001b[0m\u001b[1;33m)\u001b[0m\u001b[1;33m\u001b[0m\u001b[1;33m\u001b[0m\u001b[0m\n\u001b[0m",
      "\u001b[1;32mc:\\Users\\Jakob\\Documents\\TUM\\Master\\4.Semester-QST\\Quantum-Challenge\\quantimize\\air_security.py\u001b[0m in \u001b[0;36mcheck_safety\u001b[1;34m(list_of_trajectories, dt)\u001b[0m\n\u001b[0;32m     66\u001b[0m     \"\"\"\n\u001b[0;32m     67\u001b[0m     \u001b[0mtime_list\u001b[0m\u001b[1;33m,\u001b[0m \u001b[0mtime_grid\u001b[0m \u001b[1;33m=\u001b[0m \u001b[0mda\u001b[0m\u001b[1;33m.\u001b[0m\u001b[0mcreate_time_grid\u001b[0m\u001b[1;33m(\u001b[0m\u001b[0mdt\u001b[0m\u001b[1;33m)\u001b[0m\u001b[1;33m\u001b[0m\u001b[1;33m\u001b[0m\u001b[0m\n\u001b[1;32m---> 68\u001b[1;33m     \u001b[0mtime_grid\u001b[0m \u001b[1;33m=\u001b[0m \u001b[0mda\u001b[0m\u001b[1;33m.\u001b[0m\u001b[0mmap_trajectory_to_time_grid\u001b[0m\u001b[1;33m(\u001b[0m\u001b[0mlist_of_trajectories\u001b[0m\u001b[1;33m,\u001b[0m \u001b[0mtime_grid\u001b[0m\u001b[1;33m)\u001b[0m\u001b[1;33m\u001b[0m\u001b[1;33m\u001b[0m\u001b[0m\n\u001b[0m\u001b[0;32m     69\u001b[0m     \u001b[0merror_list\u001b[0m \u001b[1;33m=\u001b[0m \u001b[1;33m[\u001b[0m\u001b[1;33m]\u001b[0m\u001b[1;33m\u001b[0m\u001b[1;33m\u001b[0m\u001b[0m\n\u001b[0;32m     70\u001b[0m     \u001b[1;32mfor\u001b[0m \u001b[0mtime_step\u001b[0m \u001b[1;32min\u001b[0m \u001b[0mtime_list\u001b[0m\u001b[1;33m:\u001b[0m\u001b[1;33m\u001b[0m\u001b[1;33m\u001b[0m\u001b[0m\n",
      "\u001b[1;32mc:\\Users\\Jakob\\Documents\\TUM\\Master\\4.Semester-QST\\Quantum-Challenge\\quantimize\\data_access.py\u001b[0m in \u001b[0;36mmap_trajectory_to_time_grid\u001b[1;34m(trajectories, time_grid)\u001b[0m\n\u001b[0;32m    312\u001b[0m         \u001b[0mprint\u001b[0m\u001b[1;33m(\u001b[0m\u001b[0mtrajectory\u001b[0m\u001b[1;33m[\u001b[0m\u001b[1;34m\"flight_nr\"\u001b[0m\u001b[1;33m]\u001b[0m\u001b[1;33m)\u001b[0m\u001b[1;33m\u001b[0m\u001b[1;33m\u001b[0m\u001b[0m\n\u001b[0;32m    313\u001b[0m         \u001b[1;32mfor\u001b[0m \u001b[0mpoint\u001b[0m \u001b[1;32min\u001b[0m \u001b[0mtrajectory\u001b[0m\u001b[1;33m[\u001b[0m\u001b[1;34m\"trajectory\"\u001b[0m\u001b[1;33m]\u001b[0m\u001b[1;33m:\u001b[0m\u001b[1;33m\u001b[0m\u001b[1;33m\u001b[0m\u001b[0m\n\u001b[1;32m--> 314\u001b[1;33m             \u001b[0mtime_grid\u001b[0m\u001b[1;33m[\u001b[0m\u001b[0mpoint\u001b[0m\u001b[1;33m[\u001b[0m\u001b[1;36m3\u001b[0m\u001b[1;33m]\u001b[0m\u001b[1;33m]\u001b[0m\u001b[1;33m[\u001b[0m\u001b[1;34m\"FL_NR\"\u001b[0m\u001b[1;33m]\u001b[0m\u001b[1;33m.\u001b[0m\u001b[0mappend\u001b[0m\u001b[1;33m(\u001b[0m\u001b[0mtrajectory\u001b[0m\u001b[1;33m[\u001b[0m\u001b[1;34m\"flight_nr\"\u001b[0m\u001b[1;33m]\u001b[0m\u001b[1;33m)\u001b[0m\u001b[1;33m\u001b[0m\u001b[1;33m\u001b[0m\u001b[0m\n\u001b[0m\u001b[0;32m    315\u001b[0m             \u001b[0mtime_grid\u001b[0m\u001b[1;33m[\u001b[0m\u001b[0mpoint\u001b[0m\u001b[1;33m[\u001b[0m\u001b[1;36m3\u001b[0m\u001b[1;33m]\u001b[0m\u001b[1;33m]\u001b[0m\u001b[1;33m[\u001b[0m\u001b[1;34m\"LONG\"\u001b[0m\u001b[1;33m]\u001b[0m\u001b[1;33m.\u001b[0m\u001b[0mappend\u001b[0m\u001b[1;33m(\u001b[0m\u001b[0mpoint\u001b[0m\u001b[1;33m[\u001b[0m\u001b[1;36m0\u001b[0m\u001b[1;33m]\u001b[0m\u001b[1;33m)\u001b[0m\u001b[1;33m\u001b[0m\u001b[1;33m\u001b[0m\u001b[0m\n\u001b[0;32m    316\u001b[0m             \u001b[0mtime_grid\u001b[0m\u001b[1;33m[\u001b[0m\u001b[0mpoint\u001b[0m\u001b[1;33m[\u001b[0m\u001b[1;36m3\u001b[0m\u001b[1;33m]\u001b[0m\u001b[1;33m]\u001b[0m\u001b[1;33m[\u001b[0m\u001b[1;34m\"LAT\"\u001b[0m\u001b[1;33m]\u001b[0m\u001b[1;33m.\u001b[0m\u001b[0mappend\u001b[0m\u001b[1;33m(\u001b[0m\u001b[0mpoint\u001b[0m\u001b[1;33m[\u001b[0m\u001b[1;36m1\u001b[0m\u001b[1;33m]\u001b[0m\u001b[1;33m)\u001b[0m\u001b[1;33m\u001b[0m\u001b[1;33m\u001b[0m\u001b[0m\n",
      "\u001b[1;31mKeyError\u001b[0m: datetime.time(13, 31, 27)"
     ]
    }
   ],
   "source": [
    "air_safety.radius_control(trajectory_ga)\n",
    "air_safety.check_safety([trajectory_sls, trajectory_ga], 15)"
   ]
  },
  {
   "cell_type": "markdown",
   "metadata": {},
   "source": [
    "### Benchmarks\n",
    "#### Flight time and fuel consumption\n",
    "#### Computation efficiency\n",
    "#### Climate impact reduction\n",
    "### Results and discussion"
   ]
  },
  {
   "cell_type": "code",
   "execution_count": 4,
   "metadata": {},
   "outputs": [],
   "source": [
    "import quantimize.benchmarking.toolbox as bt\n",
    "import quantimize.benchmarking.benchmarking as bb"
   ]
  },
  {
   "cell_type": "code",
   "execution_count": 5,
   "metadata": {},
   "outputs": [
    {
     "name": "stdout",
     "output_type": "stream",
     "text": [
      " The best solution found:                                                                           \n",
      " [-11.02249365  -3.75137248   8.90681191  59.28896252  55.97779438\n",
      "  57.61850374 393.41578157 350.32997658 284.09128016 301.58489288\n",
      " 341.05736321]\n",
      "\n",
      " Objective function:\n",
      " 856.7614100556576\n",
      " The best solution found:                                                                           \n",
      " [ -9.55665053  -5.43014719  15.02823462  55.55229939  39.08374281\n",
      "  59.93378007 384.29204772 289.61590582 391.71870307 307.11244536\n",
      " 142.11391574]\n",
      "\n",
      " Objective function:\n",
      " -5692.481733995855\n"
     ]
    }
   ],
   "source": [
    "cost_comp_sl, trajectory_sl= bb.average_computation_time(bt.sl_for_benchmarking, flights=range(2))\n",
    "cost_comp_ga, trajectory_ga= bb.average_computation_time(bt.ga_for_benchmarking, flights=range(2))\n",
    "cost_comp_qga, trajectory_qga= bb.average_computation_time(bt.qga_for_benchmarking, flights=range(2))"
   ]
  },
  {
   "cell_type": "code",
   "execution_count": 6,
   "metadata": {},
   "outputs": [],
   "source": [
    "cost_sl = bb.average_cost(trajectory_sl)\n",
    "cost_ga = bb.average_cost(trajectory_ga)\n",
    "cost_qga = bb.average_cost(trajectory_qga)\n",
    "\n",
    "flight_time_sl = bb.averaged_flight_time(trajectory_sl)\n",
    "flight_time_ga = bb.averaged_flight_time(trajectory_ga)\n",
    "flight_time_qga = bb.averaged_flight_time(trajectory_qga)\n",
    "\n",
    "fuel_sl = bb.average_fuel(trajectory_sl)\n",
    "fuel_ga = bb.average_fuel(trajectory_ga)\n",
    "fuel_qga = bb.average_fuel(trajectory_qga)"
   ]
  },
  {
   "cell_type": "code",
   "execution_count": 8,
   "metadata": {},
   "outputs": [
    {
     "name": "stdout",
     "output_type": "stream",
     "text": [
      "sl: computation_time:  0.03500245000000746 , time: 21621.0 , cost:  1394.9188890763007 , fuel:  7.45\n",
      "ga: computation_time:  9.35648845 , time: -2279.5 , cost:  -2417.860161970099 , fuel:  425.5022077598786\n",
      "qga: computation_time:  81.12295680000001 , time: 22936.0 , cost:  1278.2813115548242 , fuel:  195.4243320834683\n"
     ]
    }
   ],
   "source": [
    "print('sl: computation_time: ', cost_comp_sl, ', time:', flight_time_sl, ', cost: ', cost_sl, ', fuel: ', fuel_sl)\n",
    "print('ga: computation_time: ', cost_comp_ga, ', time:', flight_time_ga, ', cost: ', cost_ga, ', fuel: ', fuel_ga)\n",
    "print('qga: computation_time: ', cost_comp_qga, ', time:', flight_time_qga, ', cost: ', cost_qga, ', fuel: ', fuel_qga) "
   ]
  },
  {
   "cell_type": "code",
   "execution_count": 9,
   "metadata": {},
   "outputs": [
    {
     "name": "stdout",
     "output_type": "stream",
     "text": [
      "[(-30, 56, 250, datetime.time(7, 15)), (-29.7, 55.248148148148154, 253.61111464183188, datetime.time(7, 21, 26)), (-29.4, 55.385185185185186, 257.22222928366375, datetime.time(7, 23, 36)), (-29.099999999999998, 55.522222222222226, 260.8333439254956, datetime.time(7, 25, 46)), (-28.799999999999997, 55.659259259259265, 264.44445856732744, datetime.time(7, 27, 56)), (-28.499999999999996, 55.796296296296305, 268.0555732091593, datetime.time(7, 30, 6)), (-28.199999999999996, 55.93333333333334, 271.6666878509912, datetime.time(7, 32, 13)), (-27.899999999999995, 56.07037037037038, 275.27780249282307, datetime.time(7, 34, 19)), (-27.599999999999994, 56.207407407407416, 278.88891713465495, datetime.time(7, 36, 25)), (-27.299999999999994, 56.34444444444445, 282.5000317764868, datetime.time(7, 38, 31)), (-26.999999999999993, 56.48148148148149, 286.11114641831864, datetime.time(7, 40, 37)), (-26.699999999999992, 56.61851851851853, 289.7222610601505, datetime.time(7, 42, 43)), (-26.39999999999999, 56.75555555555557, 293.3333757019824, datetime.time(7, 44, 48)), (-26.09999999999999, 56.8925925925926, 296.94449034381427, datetime.time(7, 46, 53)), (-25.79999999999999, 57.02962962962964, 300.55560498564614, datetime.time(7, 48, 58)), (-25.49999999999999, 57.16666666666668, 304.166719627478, datetime.time(7, 51, 3)), (-25.19999999999999, 57.30370370370372, 307.7778342693099, datetime.time(7, 53, 8)), (-24.899999999999988, 57.44074074074075, 311.3889489111417, datetime.time(7, 55, 14)), (-24.599999999999987, 57.57777777777779, 315.0000635529736, datetime.time(7, 57, 19)), (-24.299999999999986, 57.71481481481483, 318.61117819480546, datetime.time(7, 59, 24)), (-23.999999999999986, 57.85185185185186, 322.22229283663734, datetime.time(8, 1, 29)), (-23.699999999999985, 57.9888888888889, 325.8334074784692, datetime.time(8, 3, 34)), (-23.399999999999984, 58.12592592592594, 329.44452212030103, datetime.time(8, 5, 39)), (-23.099999999999984, 58.26296296296298, 333.05563676213296, datetime.time(8, 7, 46)), (-22.799999999999983, 58.40764635603347, 336.6667514039648, datetime.time(8, 9, 55)), (-22.499999999999982, 58.554559936280384, 340.27786604579666, datetime.time(8, 12, 5)), (-22.19999999999998, 58.701473516527294, 343.88898068762853, datetime.time(8, 14, 15)), (-21.89999999999998, 58.84838709677421, 347.5000953294604, datetime.time(8, 16, 25)), (-21.59999999999998, 58.99530067702112, 351.1112099712923, datetime.time(8, 18, 36)), (-21.29999999999998, 59.14221425726804, 354.7223246131241, datetime.time(8, 20, 47)), (-20.99999999999998, 59.28912783751495, 358.333439254956, datetime.time(8, 22, 58)), (-20.699999999999978, 59.436041417761864, 361.94455389678785, datetime.time(8, 25, 9)), (-20.399999999999977, 59.58295499800877, 365.5556685386197, datetime.time(8, 27, 20)), (-20.099999999999977, 59.72986857825569, 369.1667831804516, datetime.time(8, 29, 31)), (-19.799999999999976, 59.8767821585026, 372.7778978222834, datetime.time(8, 31, 42)), (-19.499999999999975, 60.0, 376.38901246411535, datetime.time(8, 33, 47)), (-19.199999999999974, 60.0, 379.99986311667226, datetime.time(8, 35, 37)), (-18.899999999999974, 60.0, 376.11097042546874, datetime.time(8, 37, 27)), (-18.599999999999973, 60.0, 372.22207773426516, datetime.time(8, 39, 17)), (-18.299999999999972, 60.0, 368.33318504306163, datetime.time(8, 41, 7)), (-17.99999999999997, 60.0, 364.44429235185805, datetime.time(8, 42, 57)), (-17.69999999999997, 60.0, 360.5553996606545, datetime.time(8, 44, 47)), (-17.39999999999997, 60.0, 356.66650696945095, datetime.time(8, 46, 37)), (-17.09999999999997, 60.0, 352.77761427824737, datetime.time(8, 48, 27)), (-16.79999999999997, 60.0, 348.8887215870438, datetime.time(8, 50, 17)), (-16.499999999999968, 60.0, 344.9998288958402, datetime.time(8, 52, 6)), (-16.199999999999967, 60.0, 341.1109362046367, datetime.time(8, 53, 55)), (-15.899999999999967, 60.0, 337.2220435134331, datetime.time(8, 55, 44)), (-15.599999999999966, 60.0, 333.3331508222295, datetime.time(8, 57, 33)), (-15.299999999999965, 60.0, 329.444258131026, datetime.time(8, 59, 22)), (-14.999999999999964, 60.0, 325.5553654398224, datetime.time(9, 1, 10)), (-14.699999999999964, 60.0, 321.66647274861884, datetime.time(9, 2, 58)), (-14.399999999999963, 60.0, 317.77758005741526, datetime.time(9, 4, 46)), (-14.099999999999962, 60.0, 313.88868736621174, datetime.time(9, 6, 34)), (-13.799999999999962, 60.0, 309.99979467500816, datetime.time(9, 8, 21)), (-13.499999999999961, 60.0, 306.1109019838046, datetime.time(9, 10, 8)), (-13.19999999999996, 60.0, 302.222009292601, datetime.time(9, 11, 55)), (-12.89999999999996, 60.0, 298.3331166013975, datetime.time(9, 13, 42)), (-12.599999999999959, 60.0, 294.4442239101939, datetime.time(9, 15, 29)), (-12.299999999999958, 60.0, 290.5553312189903, datetime.time(9, 17, 16)), (-11.999999999999957, 60.0, 286.6664385277868, datetime.time(9, 19, 5)), (-11.699999999999957, 60.0, 282.7775458365832, datetime.time(9, 20, 54)), (-11.399999999999956, 60.0, 278.88865314537964, datetime.time(9, 22, 43)), (-11.099999999999955, 60.0, 274.99976045417606, datetime.time(9, 24, 32)), (-10.799999999999955, 60.0, 271.1108677629725, datetime.time(9, 26, 21)), (-10.499999999999954, 60.0, 267.22197507176895, datetime.time(9, 28, 13)), (-10.199999999999953, 60.0, 263.3330823805654, datetime.time(9, 30, 5)), (-9.899999999999952, 60.0, 259.4441896893618, datetime.time(9, 31, 57)), (-9.599999999999952, 60.0, 255.55529699815827, datetime.time(9, 33, 49)), (-9.299999999999951, 60.0, 251.6664043069547, datetime.time(9, 35, 41)), (-8.99999999999995, 60.0, 247.7775116157511, datetime.time(9, 37, 37)), (-8.69999999999995, 60.0, 243.88861892454756, datetime.time(9, 39, 33)), (-8.399999999999949, 60.0, 240.0, datetime.time(9, 41, 29)), (-8.099999999999948, 60.0, 240.0, datetime.time(9, 43, 25)), (-7.799999999999948, 60.0, 240.0, datetime.time(9, 45, 21)), (-7.4999999999999485, 60.0, 240.0, datetime.time(9, 47, 17)), (-7.199999999999949, 60.0, 240.0, datetime.time(9, 49, 13)), (-6.899999999999949, 60.0, 240.0, datetime.time(9, 51, 9)), (-6.599999999999949, 60.0, 240.0, datetime.time(9, 53, 5)), (-6.299999999999949, 60.0, 240.0, datetime.time(9, 55, 1)), (-5.999999999999949, 60.0, 240.0, datetime.time(9, 56, 57)), (-5.6999999999999496, 60.0, 240.0, datetime.time(9, 58, 53)), (-5.39999999999995, 60.0, 240.0, datetime.time(10, 0, 49)), (-5.09999999999995, 60.0, 240.0, datetime.time(10, 2, 45)), (-4.79999999999995, 60.0, 240.0, datetime.time(10, 4, 41)), (-4.49999999999995, 60.0, 240.0, datetime.time(10, 6, 37)), (-4.19999999999995, 60.0, 240.0, datetime.time(10, 8, 33)), (-3.8999999999999506, 60.0, 240.0, datetime.time(10, 10, 29)), (-3.599999999999951, 60.0, 240.0, datetime.time(10, 12, 25)), (-3.299999999999951, 60.0, 240.0, datetime.time(10, 14, 21)), (-2.999999999999951, 60.0, 240.0, datetime.time(10, 16, 17)), (-2.6999999999999513, 60.0, 240.0, datetime.time(10, 18, 13)), (-2.3999999999999515, 60.0, 240.0, datetime.time(10, 20, 9)), (-2.0999999999999517, 60.0, 240.0, datetime.time(10, 22, 5)), (-1.7999999999999516, 60.0, 240.0, datetime.time(10, 24, 1)), (-1.4999999999999516, 60.0, 240.0, datetime.time(10, 25, 57)), (-1.1999999999999515, 60.0, 240.0, datetime.time(10, 27, 53)), (-0.8999999999999515, 60.0, 240.0, datetime.time(10, 29, 49)), (-0.5999999999999515, 60.0, 240.0, datetime.time(10, 31, 45)), (-0.29999999999995147, 60.0, 240.0, datetime.time(10, 33, 41)), (4.851674617611934e-14, 60.0, 240.0, datetime.time(10, 35, 37)), (0.3000000000000485, 60.0, 240.0, datetime.time(10, 37, 33)), (0.6000000000000485, 60.0, 240.0, datetime.time(10, 39, 29)), (0.9000000000000485, 60.0, 240.0, datetime.time(10, 41, 25)), (1.2000000000000486, 60.0, 240.0, datetime.time(10, 43, 21)), (1.5000000000000486, 60.0, 240.0, datetime.time(10, 45, 17)), (1.8000000000000487, 60.0, 240.0, datetime.time(10, 47, 13)), (2.1000000000000485, 60.0, 240.0, datetime.time(10, 49, 9)), (2.4000000000000483, 60.0, 240.00023465713335, datetime.time(10, 51, 5)), (2.700000000000048, 60.0, 242.22245905210679, datetime.time(10, 53)), (3.000000000000048, 60.0, 244.44468344708025, datetime.time(10, 54, 55)), (3.300000000000048, 60.0, 246.6669078420537, datetime.time(10, 56, 50)), (3.6000000000000476, 60.0, 248.88913223702713, datetime.time(10, 58, 45)), (3.9000000000000474, 60.0, 251.11135663200056, datetime.time(11, 0, 37)), (4.200000000000047, 60.0, 253.33358102697403, datetime.time(11, 2, 29)), (4.500000000000047, 60.0, 255.55580542194747, datetime.time(11, 4, 21)), (4.800000000000047, 60.0, 257.77802981692093, datetime.time(11, 6, 13)), (5.100000000000047, 60.0, 260.00025421189434, datetime.time(11, 8, 5)), (5.4000000000000465, 60.0, 262.2224786068678, datetime.time(11, 9, 57)), (5.700000000000046, 60.0, 264.4447030018413, datetime.time(11, 11, 49)), (6.000000000000046, 60.0, 266.6669273968147, datetime.time(11, 13, 41)), (6.300000000000046, 60.0, 268.88915179178815, datetime.time(11, 15, 33)), (6.600000000000046, 60.0, 271.11137618676156, datetime.time(11, 17, 21)), (6.900000000000046, 60.0, 273.333600581735, datetime.time(11, 19, 9)), (7.2000000000000455, 60.0, 275.5558249767085, datetime.time(11, 20, 57)), (7.500000000000045, 60.0, 277.7780493716819, datetime.time(11, 22, 45)), (7.800000000000045, 60.0, 280.00027376665537, datetime.time(11, 24, 33)), (8.100000000000046, 60.0, 282.22249816162883, datetime.time(11, 26, 21)), (8.400000000000047, 60.0, 284.44472255660224, datetime.time(11, 28, 9)), (8.700000000000047, 60.0, 286.6669469515757, datetime.time(11, 29, 57)), (9.000000000000048, 60.0, 288.8891713465492, datetime.time(11, 31, 45)), (9.300000000000049, 60.0, 291.1113957415226, datetime.time(11, 33, 32)), (9.60000000000005, 60.0, 293.33362013649605, datetime.time(11, 35, 19)), (9.90000000000005, 60.0, 295.55584453146946, datetime.time(11, 37, 6)), (10.20000000000005, 60.0, 297.7780689264429, datetime.time(11, 38, 53)), (10.500000000000052, 60.0, 300.0002933214164, datetime.time(11, 40, 40)), (10.800000000000052, 60.0, 302.2225177163898, datetime.time(11, 42, 27)), (11.100000000000053, 60.0, 304.44474211136327, datetime.time(11, 44, 14)), (11.400000000000054, 60.0, 306.66696650633673, datetime.time(11, 46, 1)), (11.700000000000054, 60.0, 308.88919090131014, datetime.time(11, 47, 48)), (12.000000000000055, 60.0, 311.1114152962836, datetime.time(11, 49, 36)), (12.300000000000056, 60.0, 313.3336396912571, datetime.time(11, 51, 24)), (12.600000000000056, 60.0, 315.5558640862305, datetime.time(11, 53, 12)), (12.900000000000057, 60.0, 317.77808848120395, datetime.time(11, 55)), (13.200000000000058, 60.0, 319.9996871238226, datetime.time(11, 56, 48)), (13.500000000000059, 60.0, 317.7774627288492, datetime.time(11, 58, 36)), (13.80000000000006, 60.0, 315.5552383338757, datetime.time(12, 0, 24)), (14.10000000000006, 60.0, 313.3330139389023, datetime.time(12, 2, 12)), (14.40000000000006, 60.0, 311.11078954392883, datetime.time(12, 4)), (14.700000000000061, 60.0, 308.88856514895537, datetime.time(12, 5, 47)), (15.000000000000062, 60.0, 306.66634075398196, datetime.time(12, 7, 34)), (15.300000000000063, 60.0, 304.4441163590085, datetime.time(12, 9, 21)), (15.600000000000064, 60.0, 302.221891964035, datetime.time(12, 11, 8)), (15.900000000000064, 60.0, 299.9996675690616, datetime.time(12, 12, 55)), (16.200000000000063, 60.0, 297.77744317408815, datetime.time(12, 14, 42)), (16.500000000000064, 60.0, 295.5552187791147, datetime.time(12, 16, 29)), (16.800000000000065, 60.0, 293.3329943841413, datetime.time(12, 18, 16)), (17.100000000000065, 60.0, 291.1107699891678, datetime.time(12, 20, 3)), (17.400000000000066, 60.0, 288.8885455941944, datetime.time(12, 21, 52)), (17.700000000000067, 60.0, 286.66632119922093, datetime.time(12, 23, 41)), (18.000000000000068, 60.0, 284.44409680424747, datetime.time(12, 25, 30)), (18.300000000000068, 60.0, 282.221872409274, datetime.time(12, 27, 19)), (18.60000000000007, 60.0, 279.99964801430053, datetime.time(12, 29, 8)), (18.90000000000007, 60.0, 277.777423619327, datetime.time(12, 30, 57)), (19.20000000000007, 60.0, 275.55519922435354, datetime.time(12, 32, 46)), (19.50000000000007, 60.0, 273.3329748293801, datetime.time(12, 34, 35)), (19.80000000000007, 60.0, 271.11075043440655, datetime.time(12, 36, 24)), (20.100000000000072, 60.0, 268.8885260394331, datetime.time(12, 38, 16)), (20.400000000000073, 60.0, 266.6663016444596, datetime.time(12, 40, 8)), (20.700000000000074, 60.0, 264.4440772494861, datetime.time(12, 42)), (21.000000000000075, 60.0, 262.22185285451263, datetime.time(12, 43, 52)), (21.300000000000075, 60.0, 259.99962845953917, datetime.time(12, 45, 44)), (21.600000000000076, 60.0, 257.77740406456564, datetime.time(12, 47, 36)), (21.900000000000077, 60.0, 255.55517966959218, datetime.time(12, 49, 28)), (22.200000000000077, 60.0, 253.33295527461868, datetime.time(12, 51, 20)), (22.500000000000078, 60.0, 251.1107308796452, datetime.time(12, 53, 12)), (22.80000000000008, 60.0, 248.88850648467172, datetime.time(12, 55, 8)), (23.10000000000008, 60.0, 246.66628208969826, datetime.time(12, 57, 4)), (23.40000000000008, 60.0, 244.44405769472473, datetime.time(12, 59)), (23.70000000000008, 60.0, 242.22183329975127, datetime.time(13, 0, 56)), (24, 60, 242.22183329975127, datetime.time(13, 2, 52))]\n"
     ]
    }
   ],
   "source": [
    "print(trajectory_qga[0])"
   ]
  },
  {
   "cell_type": "code",
   "execution_count": null,
   "metadata": {},
   "outputs": [],
   "source": []
  }
 ],
 "metadata": {
  "interpreter": {
   "hash": "f714f05e6ffb5ded92074cd2d65d63a36667b153e7558a65abc88f4ed2fc286e"
  },
  "kernelspec": {
   "display_name": "Python 3 (ipykernel)",
   "language": "python",
   "name": "python3"
  },
  "language_info": {
   "codemirror_mode": {
    "name": "ipython",
    "version": 3
   },
   "file_extension": ".py",
   "mimetype": "text/x-python",
   "name": "python",
   "nbconvert_exporter": "python",
   "pygments_lexer": "ipython3",
   "version": "3.8.5"
  }
 },
 "nbformat": 4,
 "nbformat_minor": 4
}
