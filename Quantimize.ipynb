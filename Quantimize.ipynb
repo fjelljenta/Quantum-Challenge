{
 "cells": [
  {
   "cell_type": "code",
   "execution_count": null,
   "metadata": {},
   "outputs": [],
   "source": [
    "from IPython.display import Image\n",
    "from IPython.display import HTML\n",
    "#HTML(open('stylesheet.css').read())"
   ]
  },
  {
   "cell_type": "markdown",
   "metadata": {},
   "source": [
    "# Team Quantimize\n",
    "## Overview of this notebook:\n",
    "### Setup:\n",
    "- Project structure\n",
    "- Installation\n",
    "### Usage:\n",
    "- Data preparation\n",
    "- Visualization\n",
    "- Classic solutions\n",
    "- Quantum solutions\n",
    "- Air security\n",
    "- Benchmarks\n",
    "- Results and discussion\n",
    "\n",
    "This notebook shall run without any errors or problems and should demonstrate the result of our work, as well as a comparision and a possible quantum advantage. If there are errors, we kindly ask to try to run it again."
   ]
  },
  {
   "cell_type": "markdown",
   "metadata": {},
   "source": [
    "## Setup\n",
    "### Project structure\n",
    "The project is structured the following way:\n",
    "Quantimize.ipynb is the main entry point. Every file has a brief explanation of what it contains and what it does.\n",
    "- quantimize/:\n",
    "    - benchmarking/:\n",
    "        - benchmarking.py: for benchmarking our work\n",
    "        - toolbox.py: for additional requirements to benchmarking\n",
    "    - classic/:\n",
    "        - classic_solution.py: for the genetic algorithm (GA)\n",
    "        - toolbox.py:for the straight line solution and various needed methods for the GA\n",
    "    - data/:\n",
    "        - aCCF_0623_p_spec.nc: the original atmospheric data file\n",
    "        - atmo.json: the new created atmospheric data file\n",
    "        - bada_data.csv: file containing information about the flight level/TAS/ROC/ROD and fuel consumption\n",
    "        - bada_data.json: file containing the same information but in a different format\n",
    "        - flights.csv: file containing information about all the flights (start, stop, FL)\n",
    "        - flights.json: file containing the same information but in a different format\n",
    "    - output/:\n",
    "        - Flight trajectories for flights 0 to 99 without 41. Every flight has its own *.csv file with the upper part being the solution to the genetic algorithm and the lower part being the solution to the quantum genetic algorithm. Upper and lower part are seperated by a blank line\n",
    "    - quantum/:\n",
    "        - QGA.py: as the quantum genetic algorithm\n",
    "        - quantum_solution.py: containing the QAOA algorithm\n",
    "        - quantum_neural_network.py: containing the quantum neural network\n",
    "        - toolbox.py: containing additional functions\n",
    "    - air_security.py: for air security related checks\n",
    "    - classic_summary.py: for calls to classic functions\n",
    "    - converter.py: for conversion of units (kts->km/h, minutes->seconds)\n",
    "    - create_json_data.py: to explain how we generated our datafiles\n",
    "    - data_access.py: gives access to all the converted data and returns them\n",
    "    - quantum_summary.py: for calls to quantum functions\n",
    "    - visualisation.py: for all visualisation related functions\n",
    "### Installation\n",
    "Our code requires the latest Python (3.10) and a virtual environment to decouple it from other environments or installations. Please install python from here [Python](https://www.python.org/). Make sure, that Python is listed in your PATH environment and then proceed creating a virtual environment. Open a command line and type\n",
    "```commandline\n",
    "python -m venv quantimize\n",
    "quantimize\\Scripts\\activate.bat\n",
    "```\n",
    "to create a quantimize environment and to activate the environment.\n",
    "The package can be cloned from github using \n",
    "```commandline\n",
    "git clone https://github.com/fjelljenta/Quantum-Challenge\n",
    "cd Quantum-Challenge\n",
    "```\n",
    "After that, one needs to install all required packages using\n",
    "```commandline\n",
    "pip install -r requirements.txt\n",
    "```\n",
    "Now, everything should be ready and set up to further run this notebook. Type\n",
    "```commandline\n",
    "jupyter notebook\n",
    "```\n",
    "and open the Quantimize.ipynb."
   ]
  },
  {
   "cell_type": "markdown",
   "metadata": {},
   "source": [
    "## Usage\n",
    "This section is dedicated to show how the notebook can be used and to show our work and results.\n",
    "### Data preparation\n",
    "<div class='Exp'>\n",
    "The data preparation is all related to the file \"create_json_data.py\". It can be used as a standalone application to convert all three given files (atmospheric data, flight data, flight list) into the corresponding \\*.json files. This was done to get a better handle over the files and to adapt the access to our purposes. For example, some flight levels were converted from hPa to FL for simpler calculations and visualisations. Requirement for the file to run, is that there has to be a folder \"data\" (like in this project) in the current working directory. Also the files need to have the specific names for successful conversion. Further explanaition can be found in the file itself. We now want to concentrate more on the work we did."
   ]
  },
  {
   "cell_type": "markdown",
   "metadata": {},
   "source": [
    "### Notebook preparation\n",
    "Important imports to make this notebook work as expected"
   ]
  },
  {
   "cell_type": "code",
   "execution_count": 1,
   "metadata": {},
   "outputs": [],
   "source": [
    "%matplotlib inline\n",
    "import matplotlib.pyplot as plt\n",
    "from tqdm import tqdm"
   ]
  },
  {
   "cell_type": "markdown",
   "metadata": {},
   "source": [
    "### Visualisation\n",
    "Visualisation is done for a better understanding of the data and of course for nice pictures to look at. To use the visualisation, we first have to import the visualisation part of the package. Also the datetime package, because we need to work with time objects."
   ]
  },
  {
   "cell_type": "code",
   "execution_count": null,
   "metadata": {},
   "outputs": [],
   "source": [
    "from quantimize import visualisation as vs\n",
    "from datetime import time as t"
   ]
  },
  {
   "cell_type": "markdown",
   "metadata": {},
   "source": [
    "We can now access all functions in it. As an example, we want to plot the atmospheric data of a certain flightlevel and time and see how it looks like. We choose FL = 295 and a time of 8 o'clock in the morning."
   ]
  },
  {
   "cell_type": "code",
   "execution_count": null,
   "metadata": {},
   "outputs": [],
   "source": [
    "vs.make_atmo_map(295, t(8,0,0))"
   ]
  },
  {
   "cell_type": "markdown",
   "metadata": {},
   "source": [
    "You will get the atmospheric data plotted in different colors, corresponding to the value and normalized to the min and max value available. In the title, you can also see, that there were some assumptions:\n",
    "1. We have no atmospheric data for FL 295, so we choose the closest, which is FL 300\n",
    "2. We also do not have atmospheric data for 8 o'clock in the morning. Therefore, we refer to 6 o'clock in the morning.\n",
    "\n",
    "Regarding the time, we split the time in intervals from 6 to 9 corresponding to the data of 6 o'clock, 9 to 15 corresponding to the data of 12 o'clock and 15 to 21 corresponding to the data of 18 o'clock.\n",
    "\n",
    "We also can animate the atmospheric data either for a fixed time variing in the FL or vice verca with a fixed FL variing in time. These function do not work in this notebook, because they are repetitive. We included a video of them below, so you can see what it will actually show. The color scheme is equivalent to the one before. Blue/purple being low values or negativ ones, while yellow represents high values."
   ]
  },
  {
   "cell_type": "markdown",
   "metadata": {},
   "source": [
    "`vs.make_animated_atmo_FL_map(t(12))`"
   ]
  },
  {
   "cell_type": "code",
   "execution_count": null,
   "metadata": {},
   "outputs": [],
   "source": [
    "HTML(\"\"\"\n",
    "    <video alt=\"Atmospheric data for all flight levels at 12 o'clock\" controls>\n",
    "        <source src=\"quantimize/notebook_visual/atmo_day_map_for_12_00.mp4\" type=\"video/mp4\">\n",
    "    </video>\n",
    "\"\"\")"
   ]
  },
  {
   "cell_type": "markdown",
   "metadata": {},
   "source": [
    "`vs.make_animated_atmo_day_map(295)`"
   ]
  },
  {
   "cell_type": "code",
   "execution_count": null,
   "metadata": {},
   "outputs": [],
   "source": [
    "HTML(\"\"\"\n",
    "    <video alt=\"Atmospheric data for all flight levels at 12 o'clock\" controls>\n",
    "        <source src=\"quantimize/notebook_visual/atmo_day_map_for_FL295.mp4\" type=\"video/mp4\">\n",
    "    </video>\n",
    "\"\"\")"
   ]
  },
  {
   "cell_type": "markdown",
   "metadata": {},
   "source": [
    "Further visualisation will be presented, when showing flight paths.\n",
    "### Classic solutions\n",
    "In our work, we provide two different classic solutions. One being the simplest, the straight line solution, and the other being the genetic algorithm (GA).\n",
    "#### Straight line solution\n",
    "The straight line solution, as the name suggests, just computes a straight line from start to end, without any variation. The function takes the flight number (17) and a timestep dt, here 300 seconds, as input."
   ]
  },
  {
   "cell_type": "code",
   "execution_count": null,
   "metadata": {},
   "outputs": [],
   "source": [
    "flight_nr = 17\n",
    "dt = 300"
   ]
  },
  {
   "cell_type": "code",
   "execution_count": null,
   "metadata": {},
   "outputs": [],
   "source": [
    "import quantimize.classic_summary as classic_solution\n",
    "trajectory_sls = classic_solution.straight_line_solution(flight_nr, dt)"
   ]
  },
  {
   "cell_type": "markdown",
   "metadata": {},
   "source": [
    "The trajectory can now be plotted as a 2D graph for example. First we create a map and then plot the flight path."
   ]
  },
  {
   "cell_type": "code",
   "execution_count": null,
   "metadata": {},
   "outputs": [],
   "source": [
    "%matplotlib widget\n",
    "map = vs.make_map()\n",
    "vs.scatter_flight_path_on_map(map, trajectory_sls)"
   ]
  },
  {
   "cell_type": "markdown",
   "metadata": {},
   "source": [
    "In the graph, you can see a dotted line showing the flight path. The color of the dots refer to the flight level this time. Later this changes, by introducing the flight levels. Then the color represents the atmospheric data values. We can also now calculate the cost."
   ]
  },
  {
   "cell_type": "code",
   "execution_count": null,
   "metadata": {},
   "outputs": [],
   "source": [
    "cost = classic_solution.compute_cost(trajectory_sls)\n",
    "print(cost)"
   ]
  },
  {
   "cell_type": "markdown",
   "metadata": {},
   "source": [
    "The cost has the unit 10e-12 K.\n",
    "\n",
    "#### Genetic algorithm solution\n",
    "In the genetic algorithm solution (GA) we use the genetic algorithm to find boundary points and then calculate from these points the optimal flight trajectory. This function is adapted to give uniform time distance for later calculations."
   ]
  },
  {
   "cell_type": "code",
   "execution_count": null,
   "metadata": {},
   "outputs": [],
   "source": [
    "trajectory_ga = classic_solution.genetic_algorithm_solution(flight_nr, dt)"
   ]
  },
  {
   "cell_type": "markdown",
   "metadata": {},
   "source": [
    "The objective function also contains already the cost of this flight. We can now plot this again, this time in 3D to see the flight level changes first and then with atmospheric data."
   ]
  },
  {
   "cell_type": "code",
   "execution_count": null,
   "metadata": {},
   "outputs": [],
   "source": [
    "ax, map3d = vs.make_3d_map()\n",
    "vs.scatter_flight_path_on_map_3d(ax,map3d,trajectory_ga)"
   ]
  },
  {
   "cell_type": "markdown",
   "metadata": {},
   "source": [
    "The colors represent the value of the flight level to be consistent with the previous example. In the next plot we add the atmospheric data."
   ]
  },
  {
   "cell_type": "code",
   "execution_count": null,
   "metadata": {},
   "outputs": [],
   "source": [
    "ax, map3d = vs.make_3d_map()\n",
    "vs.plot_flight_path_on_map_3d_with_atmo_as_points(ax, map3d, trajectory_ga)"
   ]
  },
  {
   "cell_type": "markdown",
   "metadata": {},
   "source": [
    "This plot shows the atmospheric data in terms of different colors for the flight points. In the next plot we want to see a bit more than the flight path but also the outer regions"
   ]
  },
  {
   "cell_type": "code",
   "execution_count": null,
   "metadata": {},
   "outputs": [],
   "source": [
    "ax, map3d = vs.make_3d_map()\n",
    "vs.plot_flight_path_on_map_3d_with_atmo_as_slices(ax, map3d, trajectory_ga)"
   ]
  },
  {
   "cell_type": "markdown",
   "metadata": {},
   "source": [
    "The colors represent the value of the atmospheric data in squares around the flight path point. You can gain inside into the atmospheric data next to the flight path. The corners of the squares are the points which values are visualized. Therefore one can see, how the algorithm tries to avoid 'expensive' regions. On the ground you can see the projection of the flight path for a better visualisation. With variation in the flight level, one can obtain already a much better result than just staying on the same flight level. We can also check the cost, but these should be similar to the objective function."
   ]
  },
  {
   "cell_type": "code",
   "execution_count": null,
   "metadata": {},
   "outputs": [],
   "source": [
    "cost = classic_solution.compute_cost(trajectory_ga)\n",
    "print(cost)"
   ]
  },
  {
   "cell_type": "markdown",
   "metadata": {},
   "source": [
    "The small deviation comes from a different spacing of the points as mentioned above, but is in the same order as the original result."
   ]
  },
  {
   "cell_type": "markdown",
   "metadata": {},
   "source": [
    "### Quantum solution\n",
    "Our quantum solutions consist of three different. The first is the quantum equivalent to the genetic algorithm. The second one ist a quantum neural network and the third one is a mapping of atmospheric data to a qubit grid.\n",
    "#### Quantum genetic algortihm\n"
   ]
  },
  {
   "cell_type": "code",
   "execution_count": 2,
   "metadata": {},
   "outputs": [],
   "source": [
    "import quantimize.quantum_summary as quantum_solution"
   ]
  },
  {
   "cell_type": "code",
   "execution_count": null,
   "metadata": {},
   "outputs": [],
   "source": [
    "trajectory_qga = quantum_solution.quantum_genetic_algorithm_solution(flight_nr, dt, print_bool=True)"
   ]
  },
  {
   "cell_type": "markdown",
   "metadata": {},
   "source": [
    "We can again plot this trajectory and compute its cost"
   ]
  },
  {
   "cell_type": "code",
   "execution_count": null,
   "metadata": {},
   "outputs": [],
   "source": [
    "ax, map3d = vs.make_3d_map()\n",
    "vs.plot_flight_path_on_map_3d_with_atmo_as_slices(ax, map3d, trajectory_qga)"
   ]
  },
  {
   "cell_type": "code",
   "execution_count": null,
   "metadata": {},
   "outputs": [],
   "source": [
    "cost = classic_solution.compute_cost(trajectory_qga)\n",
    "print(cost)"
   ]
  },
  {
   "cell_type": "markdown",
   "metadata": {},
   "source": [
    "As one can see, the algorithm gives an output, which is not as smooth as the classic solution. The climate efficiency is slightly better than for the classic GA (might/will depend on the chosen flight). But the flight trajectory is not as smooth as the one compared to the GA."
   ]
  },
  {
   "cell_type": "markdown",
   "metadata": {},
   "source": [
    "\n",
    "#### Quantum neural network (QNN)\n",
    "The quantum neural network (QNN) base function needs already precalculated boundary points and tries to optimize those further. In this high level call, we first let the algorithm calculate the boundary points and then pass them to the QNN for optimization. The boundary points result from the classic GA algorithm."
   ]
  },
  {
   "cell_type": "code",
   "execution_count": null,
   "metadata": {},
   "outputs": [],
   "source": [
    "optimized_ctrl_pts = quantum_solution.quantum_neural_network(flight_nr, 6)"
   ]
  },
  {
   "cell_type": "code",
   "execution_count": null,
   "metadata": {},
   "outputs": [],
   "source": [
    "print(optimized_ctrl_pts)"
   ]
  },
  {
   "cell_type": "markdown",
   "metadata": {},
   "source": [
    "The QNN is unfortunatly only able to compute the cost and not to produce a trajectory. The computed cost (might/will vary), is bigger than the cost of the GA algorithm. This is related to the nature of the QNN because it uses a quite different approach to the problem. Additionally, the QNN is also expensive in computation cost and would need definetly more than 6 qubits for better results."
   ]
  },
  {
   "cell_type": "markdown",
   "metadata": {},
   "source": [
    "#### QAOA for QUBO"
   ]
  },
  {
   "cell_type": "markdown",
   "metadata": {},
   "source": [
    "This section will briefly show what code was implemented for our QAOA solution. For the theory, please read the corresponding section in the submitted paper."
   ]
  },
  {
   "cell_type": "code",
   "execution_count": 3,
   "metadata": {},
   "outputs": [],
   "source": [
    "gc = quantum_solution.sample_grid()"
   ]
  },
  {
   "cell_type": "code",
   "execution_count": 4,
   "metadata": {},
   "outputs": [
    {
     "name": "stdout",
     "output_type": "stream",
     "text": [
      "The cost grid is\n",
      "[[-5 -5 -5 -5]\n",
      " [-5 -1 -5 -5]\n",
      " [-5 -1 -5 -5]\n",
      " [-5 -5 -5 -5]]\n"
     ]
    }
   ],
   "source": [
    "print('The cost grid is')\n",
    "print(gc)"
   ]
  },
  {
   "cell_type": "code",
   "execution_count": 5,
   "metadata": {},
   "outputs": [],
   "source": [
    "from qiskit import IBMQ\n",
    "from qiskit.providers.aer import QasmSimulator"
   ]
  },
  {
   "cell_type": "code",
   "execution_count": 6,
   "metadata": {},
   "outputs": [
    {
     "data": {
      "text/plain": [
       "<AccountProvider for IBMQ(hub='ibm-q', group='open', project='main')>"
      ]
     },
     "execution_count": 6,
     "metadata": {},
     "output_type": "execute_result"
    }
   ],
   "source": [
    "IBMQ.load_account()"
   ]
  },
  {
   "cell_type": "code",
   "execution_count": 7,
   "metadata": {},
   "outputs": [],
   "source": [
    "provider = IBMQ.get_provider(\n",
    "        hub='deloitte-event',\n",
    "        group='finalist',\n",
    "        project='recveveo3rbz2kyt'\n",
    "    )"
   ]
  },
  {
   "cell_type": "code",
   "execution_count": null,
   "metadata": {
    "scrolled": true
   },
   "outputs": [],
   "source": [
    "default_backend = Aer.get_backend('qasm_simulator') # default, recommended for demonstration purpose\n",
    "noisy_backend = QasmSimulator.from_backend(provider.get_backend('ibmq_guadalupe')) # debugging needed\n",
    "real_backend = provider.get_backend('ibmq_guadalupe') # slow, see next section"
   ]
  },
  {
   "cell_type": "markdown",
   "metadata": {},
   "source": [
    "Using qiskit_optimization package"
   ]
  },
  {
   "cell_type": "code",
   "execution_count": null,
   "metadata": {},
   "outputs": [
    {
     "name": "stdout",
     "output_type": "stream",
     "text": [
      "Cost function in Ising Hamiltonian form: -3.0*Z11*Z12 - 1.0*Z11*Z21 - 6.0*Z11 - 5.0*Z12*Z22 - 3.0*Z21*Z22 + 10.0*Z22\n",
      "Cost function in QUBO form: -12.0*q11*q12 - 4.0*q11*q21 + 20.0*q11 - 20.0*q12*q22 + 16.0*q12 - 12.0*q21*q22 + 8.0*q21 - 4.0*q22 - 8.0\n",
      "Function in Sympy: -12.0*q11*q12 - 4.0*q11*q21 + 20.0*q11 - 20.0*q12*q22 + 16.0*q12 - 12.0*q21*q22 + 8.0*q21 - 4.0*q22 - 8.0\n",
      "\\ This file has been generated by DOcplex\n",
      "\\ ENCODING=ISO-8859-1\n",
      "\\Problem name: CPLEX\n",
      "\n",
      "Minimize\n",
      " obj: 20 q11 + 16 q12 + 8 q21 - 4 q22 + [ - 24 q11*q12 - 8 q11*q21 - 40 q12*q22\n",
      "      - 24 q21*q22 ]/2 -8\n",
      "Subject To\n",
      "\n",
      "Bounds\n",
      " 0 <= q11 <= 1\n",
      " 0 <= q12 <= 1\n",
      " 0 <= q21 <= 1\n",
      " 0 <= q22 <= 1\n",
      "\n",
      "Binaries\n",
      " q11 q12 q21 q22\n",
      "End\n",
      "\n"
     ]
    },
    {
     "name": "stderr",
     "output_type": "stream",
     "text": [
      "/Users/kevin.shen/opt/anaconda3/lib/python3.8/site-packages/qiskit/utils/run_circuits.py:743: UserWarning: max_credits is not a recognized runtime option and may be ignored by the backend.\n",
      "  return backend.run(circuits, **run_kwargs)\n",
      "/Users/kevin.shen/opt/anaconda3/lib/python3.8/site-packages/qiskit/utils/run_circuits.py:743: UserWarning: seed_simulator is not a recognized runtime option and may be ignored by the backend.\n",
      "  return backend.run(circuits, **run_kwargs)\n"
     ]
    }
   ],
   "source": [
    "result_2 = quantum_solution.run_QAOA(gc, runtime=False, verbose='True', backend=real_backend)"
   ]
  },
  {
   "cell_type": "code",
   "execution_count": null,
   "metadata": {},
   "outputs": [],
   "source": [
    "result_2"
   ]
  },
  {
   "cell_type": "code",
   "execution_count": null,
   "metadata": {},
   "outputs": [],
   "source": [
    "print('By QAOA, the center qubits are of the states', b)\n",
    "print('The resultant grid is')\n",
    "print(c)"
   ]
  },
  {
   "cell_type": "markdown",
   "metadata": {},
   "source": [
    "Using runtime method of qiskit backend, more efficient"
   ]
  },
  {
   "cell_type": "code",
   "execution_count": null,
   "metadata": {},
   "outputs": [],
   "source": [
    "import numpy as np\n",
    "from qiskit.opflow.primitive_ops import PauliSumOp\n",
    "from qiskit.circuit.library.n_local.qaoa_ansatz import QAOAAnsatz\n",
    "from qiskit import transpile\n",
    "from qiskit.circuit import ClassicalRegister\n",
    "from qiskit.test.mock import FakeGuadalupe"
   ]
  },
  {
   "cell_type": "code",
   "execution_count": null,
   "metadata": {},
   "outputs": [],
   "source": [
    "result = quantum_solution.run_QAOA(gc, runtime=True, verbose='True')\n",
    "idx = np.argmin(result['optimizer_history']['energy'])\n",
    "param = result['optimizer_history']['params'][idx]\n",
    "op_list = result['inputs']['operator']\n",
    "op = PauliSumOp.from_list(op_list).reduce() # cost hamiltonian\n",
    "opm = PauliSumOp.from_list([['XXXX',1]]).reduce() # mixer hamiltonian\n",
    "qc = QAOAAnsatz(cost_operator = op, mixer_operator = opm)\n",
    "qc = qc.bind_parameters(param)\n",
    "qc = qc.decompose().decompose().decompose().decompose()\n",
    "qc = transpile(qc, backend=backend)\n",
    "qc.measure_active()\n",
    "qc.draw(output = 'mpl')\n",
    "job = real_backend.run(qc)\n",
    "result = job.result()"
   ]
  },
  {
   "cell_type": "code",
   "execution_count": null,
   "metadata": {},
   "outputs": [],
   "source": [
    "result"
   ]
  },
  {
   "cell_type": "code",
   "execution_count": null,
   "metadata": {},
   "outputs": [],
   "source": [
    "result.get_counts()"
   ]
  },
  {
   "cell_type": "markdown",
   "metadata": {},
   "source": [
    "### Air security\n",
    "Air security is essential for all planes in the air to avoid crashes and to save lives. After a flight trajectory is calculated, one has to check that the route has no steeper turns than 25°, that the plane is at least 10 FL above and below of other planes or has a distance of 5 nm (9,26 km) to the next plane. This can be checked with our air safety functions and will now be shown."
   ]
  },
  {
   "cell_type": "markdown",
   "metadata": {},
   "source": [
    "Since our code relys on timestamps, we first want do do an estimation of how close we have to choose our timesteps:"
   ]
  },
  {
   "cell_type": "markdown",
   "metadata": {},
   "source": [
    "s = 9.26km"
   ]
  },
  {
   "cell_type": "markdown",
   "metadata": {},
   "source": [
    "vmax = 459kts = 850 km/h"
   ]
  },
  {
   "cell_type": "markdown",
   "metadata": {},
   "source": [
    "t = s/vmax = 39,2 s"
   ]
  },
  {
   "cell_type": "markdown",
   "metadata": {},
   "source": [
    "After some calculations, we decided to reduce this time to 15 s. In that way we reduce the space available for other flights to cross without being detected. One could of course also use a different value, but 15 seconds fit good in a general scale of time(minutes) and provides us with enough points to detect possible collisions. We now calculate all available trajectories and check them for the air safety requirements:"
   ]
  },
  {
   "cell_type": "code",
   "execution_count": null,
   "metadata": {},
   "outputs": [],
   "source": [
    "import quantimize.air_security as air_safety"
   ]
  },
  {
   "cell_type": "code",
   "execution_count": null,
   "metadata": {},
   "outputs": [],
   "source": [
    "flights= [i for i in range(100)]\n",
    "flights.remove(41)\n",
    "trajectory_sls = []\n",
    "for i in tqdm(flights):\n",
    "    if i != 41:\n",
    "        trajectory_sls.append(classic_solution.straight_line_solution(i, 15))"
   ]
  },
  {
   "cell_type": "markdown",
   "metadata": {},
   "source": [
    "Now that every flight trajectory is calculated, we can do our air safety check."
   ]
  },
  {
   "cell_type": "code",
   "execution_count": null,
   "metadata": {},
   "outputs": [],
   "source": [
    "safety_errors_sls = air_safety.check_safety(trajectory_sls, 15)\n",
    "if len(safety_errors_sls)>0:\n",
    "    print(\"Crashes found\")\n",
    "else:\n",
    "    print(\"Everything alright\")"
   ]
  },
  {
   "cell_type": "code",
   "execution_count": null,
   "metadata": {},
   "outputs": [],
   "source": [
    "print(safety_errors_sls)"
   ]
  },
  {
   "cell_type": "markdown",
   "metadata": {},
   "source": [
    "This function call shows, that for all flights in a straight line, we only have collissions between two flights (18 and 68) for a time starting at 12:49:45 until 12:50:15. Since all flights are in a straight line, we don't need to check for too tight turns. Here is a visualisation of the two conflicting flights:"
   ]
  },
  {
   "cell_type": "code",
   "execution_count": null,
   "metadata": {},
   "outputs": [],
   "source": [
    "fig, ax = plt.subplots()\n",
    "map = vs.make_map()\n",
    "vs.scatter_flight_path_on_map(map, trajectory_sls[18])\n",
    "vs.scatter_flight_path_on_map(map, trajectory_sls[68-1])"
   ]
  },
  {
   "cell_type": "markdown",
   "metadata": {},
   "source": [
    "One can see, that they come very close at the end. Th 68-1 just works around the gap from the removed flight 41. \n",
    "\n",
    "We now concentrate on the GA and QGA trajectories. These need to be checked for tight turns."
   ]
  },
  {
   "cell_type": "code",
   "execution_count": null,
   "metadata": {},
   "outputs": [],
   "source": [
    "flights= [i for i in range(100)]\n",
    "flights.remove(41)"
   ]
  },
  {
   "cell_type": "code",
   "execution_count": null,
   "metadata": {},
   "outputs": [],
   "source": [
    "trajectories_ga, conflicts_ga = air_safety.safe_algorithm_2(flights, classic_solution.genetic_algorithm_solution)\n",
    "print(\"number of trajectories: \", len(trajectories_ga))\n",
    "print(\"remaining collisions:\", conflicts_ga)"
   ]
  },
  {
   "cell_type": "markdown",
   "metadata": {},
   "source": [
    "To check if the algorithm did work, we briefly run all trajectories again through the radius check and safety check."
   ]
  },
  {
   "cell_type": "code",
   "execution_count": null,
   "metadata": {},
   "outputs": [],
   "source": [
    "ga_safety = air_safety.check_safety(trajectories_ga, 15)\n",
    "if len(ga_safety) == 0:\n",
    "    print(\"No collision issues\")\n",
    "else:\n",
    "    print(\"Collision issues with\", ga_safety)\n",
    "    \n",
    "for trajectory in trajectories_ga:\n",
    "    if not air_safety.radius_control(trajectory):\n",
    "        print(\"Radius issues with\", trajectory[\"flight_nr\"])"
   ]
  },
  {
   "cell_type": "markdown",
   "metadata": {},
   "source": [
    "We see, that our algorithm was able to almost solve every issue with our flights.\n",
    "\n",
    "Now we repeat the same procedure for the QGA."
   ]
  },
  {
   "cell_type": "code",
   "execution_count": null,
   "metadata": {},
   "outputs": [],
   "source": [
    "trajectories_qga, conflicts_qga = air_safety.safe_algorithm_2(flights, quantum_solution.quantum_genetic_algorithm_solution)\n",
    "print(\"number of trajectories: \", len(trajectories_qga))\n",
    "print(\"remaining collisions:\", conflicts_qga)"
   ]
  },
  {
   "cell_type": "code",
   "execution_count": null,
   "metadata": {},
   "outputs": [],
   "source": [
    "qga_safety = air_safety.check_safety(trajectories_qga, 15)\n",
    "if len(qga_safety) == 0:\n",
    "    print(\"No collision issues\")\n",
    "else:\n",
    "    print(\"Collision issues with\", qga_safety)\n",
    "    \n",
    "for trajectory in trajectories_qga:\n",
    "    if not air_safety.radius_control(trajectory):\n",
    "        print(\"Radius issues with\", trajectory[\"flight_nr\"])"
   ]
  },
  {
   "cell_type": "markdown",
   "metadata": {},
   "source": [
    "This section showed, how we can also fulfill all air safety requirements with our algorithms. Only minor errors occured especially regarding the radius issues. However, these should be easily resolvable in further steps."
   ]
  },
  {
   "cell_type": "markdown",
   "metadata": {},
   "source": [
    "## Benchmarks\n",
    "Since one task of our challenge is to compare our algorithms, we now come to benchmarking. We have various variables we will benchmark in the following. This includes, flight time, fuel consumption, computation time and the environmental impact. In the first step, we create a list with all flights, except 41 and let every flight be calculated 10 times. In the end we will plot our results."
   ]
  },
  {
   "cell_type": "code",
   "execution_count": null,
   "metadata": {},
   "outputs": [],
   "source": [
    "import quantimize.benchmarking.toolbox as bt\n",
    "import quantimize.benchmarking.benchmarking as bb"
   ]
  },
  {
   "cell_type": "code",
   "execution_count": null,
   "metadata": {},
   "outputs": [],
   "source": [
    "flights= [i for i in range(2)]\n",
    "#flights.remove(41)\n",
    "runs=2"
   ]
  },
  {
   "cell_type": "code",
   "execution_count": null,
   "metadata": {},
   "outputs": [],
   "source": [
    "Mean_comp_time, Error_comp_time, Mean_cost, Error_cost, Mean_flight_time, Error_flight_time, Mean_fuel, Error_fuel= bb.benchmark_wrapper(flights, runs)"
   ]
  },
  {
   "cell_type": "code",
   "execution_count": null,
   "metadata": {},
   "outputs": [],
   "source": [
    "Mean_comp_time_as, Error_comp_time_as, Mean_cost_as, Error_cost_as, Mean_flight_time_as, Error_flight_time_as, Mean_fuel_as, Error_fuel_as = bb.benchmark_wrapper(flights, runs, Air_security=True)"
   ]
  },
  {
   "cell_type": "markdown",
   "metadata": {},
   "source": [
    "### Benchmarking of computation time"
   ]
  },
  {
   "cell_type": "code",
   "execution_count": null,
   "metadata": {},
   "outputs": [],
   "source": [
    "bt.plot_graph('Benchmarking of computation time','Average computational time per flight [s]', Mean_comp_time, Error_comp_time)"
   ]
  },
  {
   "cell_type": "code",
   "execution_count": null,
   "metadata": {},
   "outputs": [],
   "source": [
    "bt.plot_graph('Benchmarking of computation time','Average computational time per flight [s]', Mean_comp_time_as, Error_comp_time_as)"
   ]
  },
  {
   "cell_type": "markdown",
   "metadata": {},
   "source": [
    "### Benchmarking of climate cost"
   ]
  },
  {
   "cell_type": "code",
   "execution_count": null,
   "metadata": {},
   "outputs": [],
   "source": [
    "bt.plot_graph('Benchmarking of climate cost','Average climate cost per flight [10^(-12)K]', Mean_cost, Error_cost)"
   ]
  },
  {
   "cell_type": "code",
   "execution_count": null,
   "metadata": {},
   "outputs": [],
   "source": [
    "bt.plot_graph('Benchmarking of climate cost','Average climate cost per flight [10^(-12)K]', Mean_cost_as, Error_cost_as)"
   ]
  },
  {
   "cell_type": "markdown",
   "metadata": {},
   "source": [
    "### Benchmarking of flight time"
   ]
  },
  {
   "cell_type": "code",
   "execution_count": null,
   "metadata": {},
   "outputs": [],
   "source": [
    "bt.plot_graph('Benchmarking of flight time','Average flight time per flight [h]', Mean_flight_time/3600, Error_flight_time/3600)"
   ]
  },
  {
   "cell_type": "code",
   "execution_count": null,
   "metadata": {},
   "outputs": [],
   "source": [
    "bt.plot_graph('Benchmarking of flight time','Average flight time per flight [h]', Mean_flight_time_as/3600, Error_flight_time_as/3600)"
   ]
  },
  {
   "cell_type": "markdown",
   "metadata": {},
   "source": [
    "### Benchmarking of fuel consumption"
   ]
  },
  {
   "cell_type": "code",
   "execution_count": null,
   "metadata": {},
   "outputs": [],
   "source": [
    "bt.plot_graph('Benchmarking of fuel consumption','Average fuel consumption per flight [kg]', Mean_fuel, Error_fuel)"
   ]
  },
  {
   "cell_type": "code",
   "execution_count": null,
   "metadata": {},
   "outputs": [],
   "source": [
    "bt.plot_graph('Benchmarking of fuel consumption','Average fuel consumption per flight [kg]', Mean_fuel_as, Error_fuel_as)"
   ]
  }
 ],
 "metadata": {
  "interpreter": {
   "hash": "f714f05e6ffb5ded92074cd2d65d63a36667b153e7558a65abc88f4ed2fc286e"
  },
  "kernelspec": {
   "display_name": "Python 3 (ipykernel)",
   "language": "python",
   "name": "python3"
  },
  "language_info": {
   "codemirror_mode": {
    "name": "ipython",
    "version": 3
   },
   "file_extension": ".py",
   "mimetype": "text/x-python",
   "name": "python",
   "nbconvert_exporter": "python",
   "pygments_lexer": "ipython3",
   "version": "3.8.5"
  }
 },
 "nbformat": 4,
 "nbformat_minor": 4
}
