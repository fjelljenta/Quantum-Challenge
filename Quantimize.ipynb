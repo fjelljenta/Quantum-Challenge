{
 "cells": [
  {
   "cell_type": "markdown",
   "metadata": {},
   "source": [
    "# Team Quantimize\n",
    "## Overview of this notebook:\n",
    "### Setup:\n",
    "- Project structure\n",
    "- Installation\n",
    "### Usage:\n",
    "- Data preparation\n",
    "- Visualization\n",
    "- Classic solutions\n",
    "- Quantum solutions\n",
    "- Air security\n",
    "- Benchmarks\n",
    "- Results and discussion\n",
    "\n",
    "This notebook shall run without any errors or problems and should demonstrate the result of our work, as well as a comparision and a possible quantum advantage."
   ]
  },
  {
   "cell_type": "markdown",
   "metadata": {},
   "source": [
    "## Setup\n",
    "### Project structure\n",
    "The project is structured the following way:\n",
    "Quantimize.ipynb is the main entry point. Every file has a brief explanation of what it contains and what it does.\n",
    "- quantimize/:\n",
    "    - classic/:\n",
    "        - classic_solution.py: for the genetic algorithm (GA)\n",
    "        - toolbox.py:for the straight line solution and various needed methods for the GA\n",
    "    - data/:\n",
    "        - aCCF_0623_p_spec.nc: the original atmospheric data file\n",
    "        - atmo.json: the new created atmospheric data file\n",
    "        - bada_data.csv: file containing information about the flight level/TAS/ROC/ROD and fuel consumption\n",
    "        - bada_data.json: file containing the same information but in a different format\n",
    "        - flights.csv: file containing information about all the flights (start, stop, FL)\n",
    "        - flights.json: file containing the same information but in a different format\n",
    "    - quantum/:\n",
    "        - QGA.py: as the quantum genetic algorithm\n",
    "        - quantum_solution.py: containing the QAOA algorithm\n",
    "        - quantum_neural_network.py: containing the quantum neural network\n",
    "        - toolbox.py: containing additional functions\n",
    "    - air_security.py: for air security related checks\n",
    "    - classic_summary.py: for calls to classic functions\n",
    "    - converter.py: for conversion of units (kts->km/h, minutes->seconds)\n",
    "    - create_json_data.py: to explain how we generated our datafiles\n",
    "    - data_access.py: gives access to all the converted data and returns them\n",
    "    - quantum_summary.py: for calls to quantum functions\n",
    "    - visualisation.py: for all visualisation related functions\n",
    "### Installation\n",
    "The package can be cloned from github using \n",
    "```commandline\n",
    "git clone https://\n",
    "cd quantimize\n",
    "```\n",
    "After that, one needs to install all required packages using\n",
    "```commandline\n",
    "pip install requirements.txt\n",
    "```\n",
    "Now, everything should be ready and set up to further run this notebook."
   ]
  },
  {
   "cell_type": "markdown",
   "metadata": {},
   "source": [
    "## Usage\n",
    "This section is dedicated to show how the notebook can be used and to show our work and results.\n",
    "### Data preparation\n",
    "The data preparation is all related to the file ```create_json_data.py```. It can be used as a standalone application to convert all three given files (atmospheric data, flight data, flight list) into the corresponding .json files. This was done to get a better handle over the files and to adapt the access to our purposes. For example, some flight levels were converted from hPa to FL for simpler calculations and visualisations on. Requirement for the file to run is, that there has to be a folder data (like in this project) in the current working directory. Also the files need to have the specific names for successful conversion. Further explanaition can be found in the file itself. We now want to concentrate more on the work done.\n",
    "### Notebook preparation\n",
    "Important imports to make this notebook work as expected"
   ]
  },
  {
   "cell_type": "code",
   "execution_count": null,
   "metadata": {},
   "outputs": [],
   "source": [
    "%matplotlib inline\n",
    "import matplotlib.pyplot as plt"
   ]
  },
  {
   "cell_type": "markdown",
   "metadata": {},
   "source": [
    "### Visualisation\n",
    "Visualisation is done for a better understanding of the data and of course for nice pictures to look at. To use the visualisation, we first have to import the visualisation part of the package. Also the datetime package, because we need to work with time objects."
   ]
  },
  {
   "cell_type": "code",
   "execution_count": null,
   "metadata": {},
   "outputs": [],
   "source": [
    "from quantimize import visualisation as vs\n",
    "from datetime import time as t"
   ]
  },
  {
   "cell_type": "markdown",
   "metadata": {},
   "source": [
    "We can now access all functions in it. As an example, we want to plot the atmospheric data of a certain flightlevel and time and see how it looks like. We choose FL = 295 and a time of 8 o'clock in the morning."
   ]
  },
  {
   "cell_type": "code",
   "execution_count": null,
   "metadata": {},
   "outputs": [],
   "source": [
    "vs.make_atmo_map(295, t(8,0,0))"
   ]
  },
  {
   "cell_type": "markdown",
   "metadata": {},
   "source": [
    "You will get the atmospheric data plotted in different colors, corresponding to the value and normalized to the min and max value available. In the title, you can also see, that there were some assumptions:\n",
    "1. We have no atmospheric data for FL 295, so we choose the closest, which is FL 300\n",
    "2. We also do not have atmospheric data for 8 o'clock in the morning. Therefore, we refer to 6 o'clock in the morning.\n",
    "\n",
    "Regarding the time, we split the time in intervals from 6 to 9 corresponding to the data of 6 o'clock, 9 to 15 corresponding to the data of 12 o'clock and 15 to 21 corresponding to the data of 18 o'clock.\n",
    "\n",
    "We also can animate the atmospheric data either for a fixed time variing in the FL or vice verca with a fixed FL variing in time. These function do not work in this notebook, because they are repetitive. To see the results, you need to import the package and run the code in a commandline. For completion it is shown here:"
   ]
  },
  {
   "cell_type": "code",
   "execution_count": null,
   "metadata": {},
   "outputs": [],
   "source": [
    "vs.make_animated_atmo_FL_map(t(12))"
   ]
  },
  {
   "cell_type": "code",
   "execution_count": null,
   "metadata": {},
   "outputs": [],
   "source": [
    "vs.make_animated_atmo_day_map(300)"
   ]
  },
  {
   "cell_type": "markdown",
   "metadata": {},
   "source": [
    "Further visualisation will be presented, when showing flight paths.\n",
    "### Classic solutions\n",
    "In our work, we provide two different classic solutions. One being the simplest, the straight line solution, and the other being the genetic algorithm (GA).\n",
    "#### Straight line solution\n",
    "The straight line solution, as the name suggests, just computes a straight line from start to end, without any variation. The function takes the flight number (4) and a timestep dt, here 300 seconds, as input."
   ]
  },
  {
   "cell_type": "code",
   "execution_count": 3,
   "metadata": {},
   "outputs": [],
   "source": [
    "flight_nr = 17\n",
    "dt = 300"
   ]
  },
  {
   "cell_type": "code",
   "execution_count": 4,
   "metadata": {},
   "outputs": [],
   "source": [
    "import quantimize.classic_summary as classic_solution\n",
    "trajectory_sls = classic_solution.straight_line_solution(flight_nr, dt)"
   ]
  },
  {
   "cell_type": "markdown",
   "metadata": {},
   "source": [
    "The trajectory can now be plotted as a 2D graph for example. First we create a map and then plot the flight path."
   ]
  },
  {
   "cell_type": "code",
   "execution_count": null,
   "metadata": {},
   "outputs": [],
   "source": [
    "%matplotlib widget\n",
    "map = vs.make_map()\n",
    "vs.scatter_flight_path_on_map(map, trajectory_sls)"
   ]
  },
  {
   "cell_type": "markdown",
   "metadata": {},
   "source": [
    "In the graph, you can see a dotted line showing the flight path. We can also now calculate the cost."
   ]
  },
  {
   "cell_type": "code",
   "execution_count": null,
   "metadata": {},
   "outputs": [],
   "source": [
    "cost = classic_solution.compute_cost(trajectory_sls)\n",
    "print(cost)"
   ]
  },
  {
   "cell_type": "markdown",
   "metadata": {},
   "source": [
    "The cost has the dimenstion 10e-12 K.\n",
    "\n",
    "#### Genetic algorithm solution\n",
    "In the genetic algorithm solution (GA) we use the genetic algorithm to find boundary points and then calculate from these points the optimal flight trajectory."
   ]
  },
  {
   "cell_type": "code",
   "execution_count": null,
   "metadata": {},
   "outputs": [],
   "source": [
    "report, solution, trajectory_ga = classic_solution.genetic_algorith_solution(flight_nr, dt)"
   ]
  },
  {
   "cell_type": "markdown",
   "metadata": {},
   "source": [
    "The objective function also contains already the cost of this flight. We can now also plot this again, this time in 3D to see the flight level changes and the atmospheric data. The flight trajectory is also mapped to a uniform time distance for later calculations."
   ]
  },
  {
   "cell_type": "code",
   "execution_count": null,
   "metadata": {},
   "outputs": [],
   "source": [
    "ax, map = vs.make_3d_map()\n",
    "vs.plot_flight_path_on_map_3d_with_atmo_as_slices(ax, map, trajectory_ga)"
   ]
  },
  {
   "cell_type": "markdown",
   "metadata": {},
   "source": [
    "The colors represent the value of the atmospheric data in squares around the flight path point. On the ground you can see the projection of the flight path. It clearly shows, that with variation in the flight height, one can obtain already a much better result than just staying on the same flight level. We can also check the cost, but these should be similar to the objective function."
   ]
  },
  {
   "cell_type": "code",
   "execution_count": null,
   "metadata": {},
   "outputs": [],
   "source": [
    "cost = classic_solution.compute_cost(trajectory_ga)\n",
    "print(cost)"
   ]
  },
  {
   "cell_type": "markdown",
   "metadata": {},
   "source": [
    "The small deviation comes from a different spacing of the points as mentioned above, but is in the same order as the original result."
   ]
  },
  {
   "cell_type": "markdown",
   "metadata": {},
   "source": [
    "### Quantum solution\n",
    "Our quantum solutions consist of three different. The first is the quantum equivalent to the genetic algorithm. The second one ist a quantum neural network and the third one is a mapping of atmospheric data to a qubit grid.\n",
    "#### Quantum genetic algortihm\n"
   ]
  },
  {
   "cell_type": "code",
   "execution_count": null,
   "metadata": {},
   "outputs": [],
   "source": [
    "import quantimize.quantum_summary as quantum_solution\n",
    "trajectory_qga = quantum_solution.quantum_genetic_algorith_solution(flight_nr, dt)"
   ]
  },
  {
   "cell_type": "markdown",
   "metadata": {},
   "source": [
    "We can again plot this trajectory and compute its cost"
   ]
  },
  {
   "cell_type": "code",
   "execution_count": null,
   "metadata": {},
   "outputs": [],
   "source": [
    "ax, map = vs.make_3d_map()\n",
    "vs.plot_flight_path_on_map_3d_with_atmo_as_slices(ax, map, trajectory_qga)\n",
    "cost = classic_solution.compute_cost(trajectory_qga)\n",
    "print(cost)"
   ]
  },
  {
   "cell_type": "markdown",
   "metadata": {},
   "source": [
    "As one can see, the algorithm gives an output, which is not as smooth as the classic solution. The climate efficiency is slightly better than for the classic GA."
   ]
  },
  {
   "cell_type": "markdown",
   "metadata": {},
   "source": [
    "\n",
    "#### Quantum neural network\n",
    "The quantum neural network takes already precalculated boundary points and tries to optimize those further. We use the boundary points from the previous classic GA algorithm."
   ]
  },
  {
   "cell_type": "code",
   "execution_count": null,
   "metadata": {},
   "outputs": [],
   "source": [
    "ctrl_pts = solution['variable']\n",
    "optimized_ctrl_pts = quantum_solution.quantum_neural_network(flight_nr, 6, ctrl_pts)"
   ]
  },
  {
   "cell_type": "code",
   "execution_count": null,
   "metadata": {},
   "outputs": [],
   "source": [
    "print(optimized_ctrl_pts)"
   ]
  },
  {
   "cell_type": "markdown",
   "metadata": {},
   "source": [
    "#### Qubit grid"
   ]
  },
  {
   "cell_type": "code",
   "execution_count": null,
   "metadata": {},
   "outputs": [],
   "source": [
    "gc = quantum_solution.sample_grid()\n",
    "a,b,c = quantum_solution.run_QAOA(gc)"
   ]
  },
  {
   "cell_type": "code",
   "execution_count": null,
   "metadata": {},
   "outputs": [],
   "source": [
    "print(c)"
   ]
  },
  {
   "cell_type": "markdown",
   "metadata": {},
   "source": [
    "### Air security\n",
    "Air security is essential for all planes in the air to avoid crashes and to save lives. After a flight trajectory is calculated, one has to check that the route has no steeper turns than 25°, that the plane is at least 10 FL above and below of other planes or has a distance of 5 nm (9,26 km) to the next plane. This can be checked with our air safety functions."
   ]
  },
  {
   "cell_type": "markdown",
   "metadata": {},
   "source": [
    "Since our code relys on timestamps, we first want do do an estimation of how close we have to choose our timesteps:\n",
    "$\\\\s = 9.26km\\\\$\n",
    "$v_{max} = 459kts = 850 km/h\\\\$\n",
    "$t = \\frac{s}{v_{max}} = 39,2 s\\\\$\n",
    "\n",
    "To further enhance this, we reduce the time to 15 s. This fits good in a general scale of time(minutes) and provides us with enough points to detect possible collisions. Therefore we first adapt our trajectories:"
   ]
  },
  {
   "cell_type": "code",
   "execution_count": 5,
   "metadata": {},
   "outputs": [
    {
     "name": "stdout",
     "output_type": "stream",
     "text": [
      " The best solution found:                                                                           \n",
      " [ -8.62114869  -8.14944913   9.78790485  45.49057421  59.80533896\n",
      "  59.62998859 329.37483245 377.46169909 310.682234   337.03593454\n",
      " 300.28309488]\n",
      "\n",
      " Objective function:\n",
      " -19167.69388516968\n",
      "1335.4189450460253 1079.4960077301284\n"
     ]
    }
   ],
   "source": [
    "import quantimize.air_security as air_safety\n",
    "\n",
    "trajectory_sls = classic_solution.straight_line_solution(2, 15)\n",
    "report, solution, trajectory_ga = classic_solution.genetic_algorith_solution(21, 15)\n",
    "cost_sls = classic_solution.compute_cost(trajectory_sls)\n",
    "cost_ga = classic_solution.compute_cost(trajectory_ga)\n",
    "print(cost_sls, cost_ga)\n"
   ]
  },
  {
   "cell_type": "code",
   "execution_count": 6,
   "metadata": {},
   "outputs": [
    {
     "name": "stdout",
     "output_type": "stream",
     "text": [
      "2\n"
     ]
    },
    {
     "name": "stderr",
     "output_type": "stream",
     "text": [
      "c:\\Users\\Jakob\\Documents\\TUM\\Master\\4.Semester-QST\\Quantum-Challenge\\quantimize\\air_security.py:216: RuntimeWarning: invalid value encountered in arccos\n",
      "  theta = np.arccos(np.dot(v1,v2)/(np.linalg.norm(v1)*np.linalg.norm(v2)))*180/np.pi\n"
     ]
    },
    {
     "ename": "KeyError",
     "evalue": "datetime.time(13, 31, 27)",
     "output_type": "error",
     "traceback": [
      "\u001b[1;31m---------------------------------------------------------------------------\u001b[0m",
      "\u001b[1;31mKeyError\u001b[0m                                  Traceback (most recent call last)",
      "\u001b[1;32m<ipython-input-6-2ddffa8bcbfc>\u001b[0m in \u001b[0;36m<module>\u001b[1;34m\u001b[0m\n\u001b[0;32m      1\u001b[0m \u001b[0mair_safety\u001b[0m\u001b[1;33m.\u001b[0m\u001b[0mradius_control\u001b[0m\u001b[1;33m(\u001b[0m\u001b[0mtrajectory_ga\u001b[0m\u001b[1;33m)\u001b[0m\u001b[1;33m\u001b[0m\u001b[1;33m\u001b[0m\u001b[0m\n\u001b[1;32m----> 2\u001b[1;33m \u001b[0mair_safety\u001b[0m\u001b[1;33m.\u001b[0m\u001b[0mcheck_safety\u001b[0m\u001b[1;33m(\u001b[0m\u001b[1;33m[\u001b[0m\u001b[0mtrajectory_sls\u001b[0m\u001b[1;33m,\u001b[0m \u001b[0mtrajectory_ga\u001b[0m\u001b[1;33m]\u001b[0m\u001b[1;33m,\u001b[0m \u001b[1;36m15\u001b[0m\u001b[1;33m)\u001b[0m\u001b[1;33m\u001b[0m\u001b[1;33m\u001b[0m\u001b[0m\n\u001b[0m",
      "\u001b[1;32mc:\\Users\\Jakob\\Documents\\TUM\\Master\\4.Semester-QST\\Quantum-Challenge\\quantimize\\air_security.py\u001b[0m in \u001b[0;36mcheck_safety\u001b[1;34m(list_of_trajectories, dt)\u001b[0m\n\u001b[0;32m     66\u001b[0m     \"\"\"\n\u001b[0;32m     67\u001b[0m     \u001b[0mtime_list\u001b[0m\u001b[1;33m,\u001b[0m \u001b[0mtime_grid\u001b[0m \u001b[1;33m=\u001b[0m \u001b[0mda\u001b[0m\u001b[1;33m.\u001b[0m\u001b[0mcreate_time_grid\u001b[0m\u001b[1;33m(\u001b[0m\u001b[0mdt\u001b[0m\u001b[1;33m)\u001b[0m\u001b[1;33m\u001b[0m\u001b[1;33m\u001b[0m\u001b[0m\n\u001b[1;32m---> 68\u001b[1;33m     \u001b[0mtime_grid\u001b[0m \u001b[1;33m=\u001b[0m \u001b[0mda\u001b[0m\u001b[1;33m.\u001b[0m\u001b[0mmap_trajectory_to_time_grid\u001b[0m\u001b[1;33m(\u001b[0m\u001b[0mlist_of_trajectories\u001b[0m\u001b[1;33m,\u001b[0m \u001b[0mtime_grid\u001b[0m\u001b[1;33m)\u001b[0m\u001b[1;33m\u001b[0m\u001b[1;33m\u001b[0m\u001b[0m\n\u001b[0m\u001b[0;32m     69\u001b[0m     \u001b[0merror_list\u001b[0m \u001b[1;33m=\u001b[0m \u001b[1;33m[\u001b[0m\u001b[1;33m]\u001b[0m\u001b[1;33m\u001b[0m\u001b[1;33m\u001b[0m\u001b[0m\n\u001b[0;32m     70\u001b[0m     \u001b[1;32mfor\u001b[0m \u001b[0mtime_step\u001b[0m \u001b[1;32min\u001b[0m \u001b[0mtime_list\u001b[0m\u001b[1;33m:\u001b[0m\u001b[1;33m\u001b[0m\u001b[1;33m\u001b[0m\u001b[0m\n",
      "\u001b[1;32mc:\\Users\\Jakob\\Documents\\TUM\\Master\\4.Semester-QST\\Quantum-Challenge\\quantimize\\data_access.py\u001b[0m in \u001b[0;36mmap_trajectory_to_time_grid\u001b[1;34m(trajectories, time_grid)\u001b[0m\n\u001b[0;32m    312\u001b[0m         \u001b[0mprint\u001b[0m\u001b[1;33m(\u001b[0m\u001b[0mtrajectory\u001b[0m\u001b[1;33m[\u001b[0m\u001b[1;34m\"flight_nr\"\u001b[0m\u001b[1;33m]\u001b[0m\u001b[1;33m)\u001b[0m\u001b[1;33m\u001b[0m\u001b[1;33m\u001b[0m\u001b[0m\n\u001b[0;32m    313\u001b[0m         \u001b[1;32mfor\u001b[0m \u001b[0mpoint\u001b[0m \u001b[1;32min\u001b[0m \u001b[0mtrajectory\u001b[0m\u001b[1;33m[\u001b[0m\u001b[1;34m\"trajectory\"\u001b[0m\u001b[1;33m]\u001b[0m\u001b[1;33m:\u001b[0m\u001b[1;33m\u001b[0m\u001b[1;33m\u001b[0m\u001b[0m\n\u001b[1;32m--> 314\u001b[1;33m             \u001b[0mtime_grid\u001b[0m\u001b[1;33m[\u001b[0m\u001b[0mpoint\u001b[0m\u001b[1;33m[\u001b[0m\u001b[1;36m3\u001b[0m\u001b[1;33m]\u001b[0m\u001b[1;33m]\u001b[0m\u001b[1;33m[\u001b[0m\u001b[1;34m\"FL_NR\"\u001b[0m\u001b[1;33m]\u001b[0m\u001b[1;33m.\u001b[0m\u001b[0mappend\u001b[0m\u001b[1;33m(\u001b[0m\u001b[0mtrajectory\u001b[0m\u001b[1;33m[\u001b[0m\u001b[1;34m\"flight_nr\"\u001b[0m\u001b[1;33m]\u001b[0m\u001b[1;33m)\u001b[0m\u001b[1;33m\u001b[0m\u001b[1;33m\u001b[0m\u001b[0m\n\u001b[0m\u001b[0;32m    315\u001b[0m             \u001b[0mtime_grid\u001b[0m\u001b[1;33m[\u001b[0m\u001b[0mpoint\u001b[0m\u001b[1;33m[\u001b[0m\u001b[1;36m3\u001b[0m\u001b[1;33m]\u001b[0m\u001b[1;33m]\u001b[0m\u001b[1;33m[\u001b[0m\u001b[1;34m\"LONG\"\u001b[0m\u001b[1;33m]\u001b[0m\u001b[1;33m.\u001b[0m\u001b[0mappend\u001b[0m\u001b[1;33m(\u001b[0m\u001b[0mpoint\u001b[0m\u001b[1;33m[\u001b[0m\u001b[1;36m0\u001b[0m\u001b[1;33m]\u001b[0m\u001b[1;33m)\u001b[0m\u001b[1;33m\u001b[0m\u001b[1;33m\u001b[0m\u001b[0m\n\u001b[0;32m    316\u001b[0m             \u001b[0mtime_grid\u001b[0m\u001b[1;33m[\u001b[0m\u001b[0mpoint\u001b[0m\u001b[1;33m[\u001b[0m\u001b[1;36m3\u001b[0m\u001b[1;33m]\u001b[0m\u001b[1;33m]\u001b[0m\u001b[1;33m[\u001b[0m\u001b[1;34m\"LAT\"\u001b[0m\u001b[1;33m]\u001b[0m\u001b[1;33m.\u001b[0m\u001b[0mappend\u001b[0m\u001b[1;33m(\u001b[0m\u001b[0mpoint\u001b[0m\u001b[1;33m[\u001b[0m\u001b[1;36m1\u001b[0m\u001b[1;33m]\u001b[0m\u001b[1;33m)\u001b[0m\u001b[1;33m\u001b[0m\u001b[1;33m\u001b[0m\u001b[0m\n",
      "\u001b[1;31mKeyError\u001b[0m: datetime.time(13, 31, 27)"
     ]
    }
   ],
   "source": [
    "air_safety.radius_control(trajectory_ga)\n",
    "air_safety.check_safety([trajectory_sls, trajectory_ga], 15)"
   ]
  },
  {
   "cell_type": "markdown",
   "metadata": {},
   "source": [
    "### Benchmarks\n",
    "#### Flight time and fuel consumption\n",
    "#### Computation efficiency\n",
    "#### Climate impact reduction\n",
    "### Results and discussion"
   ]
  },
  {
   "cell_type": "markdown",
   "metadata": {},
   "source": []
  }
 ],
 "metadata": {
  "interpreter": {
   "hash": "f714f05e6ffb5ded92074cd2d65d63a36667b153e7558a65abc88f4ed2fc286e"
  },
  "kernelspec": {
   "display_name": "Python 3.8.7 64-bit",
   "language": "python",
   "name": "python3"
  },
  "language_info": {
   "codemirror_mode": {
    "name": "ipython",
    "version": 3
   },
   "file_extension": ".py",
   "mimetype": "text/x-python",
   "name": "python",
   "nbconvert_exporter": "python",
   "pygments_lexer": "ipython3",
   "version": "3.8.7"
  },
  "orig_nbformat": 4
 },
 "nbformat": 4,
 "nbformat_minor": 2
}
